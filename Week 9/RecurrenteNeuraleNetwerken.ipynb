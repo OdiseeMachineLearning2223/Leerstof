{
  "cells": [
    {
      "cell_type": "markdown",
      "metadata": {
        "id": "Vf2coAWqon6G"
      },
      "source": [
        "# Text processing\n",
        "\n",
        "In het vorige vak hebben we manueel gewerkt met tekstuele data en een aantal stappen manueel gedaan.\n",
        "Deze stappen waren onder andere:\n",
        "* Tokenizing\n",
        "* Leestekens verwijderen\n",
        "* Omzetten naar lowercase\n",
        "* Stemming\n",
        "* Stopwoorden verwijderen\n",
        "* ...\n",
        "\n",
        "In deze stappen bekwamen we een bag of words. Dat is een vector-voorstelling van de tekst die bijhield hoe vaak elk woord van de woordenboek voorkwam in de tekst.\n",
        "Het concept van vaak kan een geheel getal zijn maar ook een frequentie op basis van hoe vaak het woord in het algemeen voorkomt in de hele dataset (tf-idf).\n",
        "Met deze vector hebben we dan ML-modellen getrained.\n",
        "\n",
        "Om te werken met text vectorization zijn er twee belangrijke lagen binnen tensorflow:\n",
        "* TextVectorization\n",
        "* Embedding layer\n",
        "\n",
        "# Text vectorization\n",
        "\n",
        "De [Text Vectorization Layer](https://www.tensorflow.org/api_docs/python/tf/keras/layers/TextVectorization) is de basis laag die een hele reeks van de stappen die we vorig jaar manueel gedaan hebben, gaat doen voor ons.\n",
        "Deze laag zet een batch van strings (1 example = 1 string) om naar een lijst van token indices.\n",
        "De bedoeling van deze layer is om met meerdere woorden tegelijkertijd te werken, niet met tekstuele klasses (hiervoor gebruik je beter de StringLookupLayer)\n",
        "\n",
        "Deze laag voert de volgende stappen uit:\n",
        "* Standaardizeren van elk voorbeeldstring (leestekens verwijderen, lowercase, ...). Dit kan je ook zelf instellen door een functie mee te geven/\n",
        "* tokenizing\n",
        "* Eventueel opstellen van n-grams\n",
        "* Elk token naar een index omzetten\n",
        "* indexes van elk voorbeeld omzetten naar een vector van ints (sparse) of floats (dense)\n",
        "\n",
        "Het is duidelijk dat de woordenboek die gebruikt wordt voor dit soort problemen heel belangrijk is.\n",
        "Deze woordenboek/vocabulary kan ofwel meegegeven worden bij de constructie van de laag of geleerd worden uit de dataset met de **.adapt()** functie"
      ]
    },
    {
      "cell_type": "code",
      "execution_count": 7,
      "metadata": {
        "colab": {
          "base_uri": "https://localhost:8080/"
        },
        "id": "fEwQ9O3Son6K",
        "outputId": "c95d97b5-94fd-4ed2-f6ae-f4cff9370d43"
      },
      "outputs": [
        {
          "data": {
            "text/plain": [
              "['', '[UNK]', 'world', 'this', 'test', 'is', 'hello', 'a']"
            ]
          },
          "execution_count": 7,
          "metadata": {},
          "output_type": "execute_result"
        }
      ],
      "source": [
        "import tensorflow as tf\n",
        "tf.compat.v1.logging.set_verbosity(tf.compat.v1.logging.ERROR)\n",
        "\n",
        "text_dataset = tf.data.Dataset.from_tensor_slices([\"Hello world\", \"this is a test\"])    # trainingsdata\n",
        "\n",
        "max_features = 10\n",
        "max_len = 4\n",
        "\n",
        "vectorize_layer = tf.keras.layers.TextVectorization(\n",
        "    max_tokens=max_features,\n",
        "    output_mode=\"int\",\n",
        "    output_sequence_length=max_len\n",
        ")\n",
        "\n",
        "# deze adapt moet gebeuren voor de fit van het model -> hier gaat hij het woordenboek opbouwen\n",
        "vectorize_layer.adapt(text_dataset)\n",
        "vectorize_layer.get_vocabulary()"
      ]
    },
    {
      "cell_type": "code",
      "execution_count": 8,
      "metadata": {
        "colab": {
          "base_uri": "https://localhost:8080/"
        },
        "id": "sE6_AiSoon6M",
        "outputId": "d71921ba-47fb-4f81-e084-8122452cfdea"
      },
      "outputs": [
        {
          "name": "stdout",
          "output_type": "stream",
          "text": [
            "1/1 [==============================] - 0s 71ms/step\n"
          ]
        },
        {
          "data": {
            "text/plain": [
              "array([[5, 3, 7, 1],\n",
              "       [1, 0, 0, 0]], dtype=int64)"
            ]
          },
          "execution_count": 8,
          "metadata": {},
          "output_type": "execute_result"
        }
      ],
      "source": [
        "# int output mode\n",
        "model = tf.keras.models.Sequential()\n",
        "model.add(tf.keras.Input(shape=(1,), dtype=tf.string))\n",
        "model.add(vectorize_layer)\n",
        "\n",
        "input_data = [\"Is this a task\", \"No\"]   # testdata\n",
        "model.predict(input_data)"
      ]
    },
    {
      "cell_type": "markdown",
      "metadata": {
        "id": "G1tp-_-_on6M"
      },
      "source": [
        "Let er hierbij op dat de output_sequence_length een belangrijke parameter is.\n",
        "Deze parameter bepaald de maximale lengte van een zin die verwerkt wordt.\n",
        "Van zinnen die langer zijn dan dit aantal woorden wordt het einde niet meer in rekening genomen."
      ]
    },
    {
      "cell_type": "code",
      "execution_count": 9,
      "metadata": {
        "colab": {
          "base_uri": "https://localhost:8080/"
        },
        "id": "RfY3rnylon6M",
        "outputId": "c4b17f57-27d0-4887-a1bf-f2af13f20fb1"
      },
      "outputs": [
        {
          "name": "stdout",
          "output_type": "stream",
          "text": [
            "1/1 [==============================] - 0s 37ms/step\n"
          ]
        },
        {
          "data": {
            "text/plain": [
              "array([[5, 3, 7, 1],\n",
              "       [1, 0, 0, 0]], dtype=int64)"
            ]
          },
          "execution_count": 9,
          "metadata": {},
          "output_type": "execute_result"
        }
      ],
      "source": [
        "input_data = [\"Is this a task or a test\", \"No\"]   # testdata\n",
        "model.predict(input_data)"
      ]
    },
    {
      "cell_type": "code",
      "execution_count": 12,
      "metadata": {
        "colab": {
          "base_uri": "https://localhost:8080/"
        },
        "id": "OOIcquifon6N",
        "outputId": "b4178964-ec91-4ae5-94e8-f668b92e3072"
      },
      "outputs": [
        {
          "name": "stdout",
          "output_type": "stream",
          "text": [
            "['[UNK]', 'world', 'this', 'test', 'is', 'hello', 'a']\n",
            "1/1 [==============================] - 0s 155ms/step\n"
          ]
        },
        {
          "data": {
            "text/plain": [
              "array([[1., 0., 1., 1., 1., 0., 1.],\n",
              "       [0., 0., 0., 1., 0., 0., 1.]], dtype=float32)"
            ]
          },
          "execution_count": 12,
          "metadata": {},
          "output_type": "execute_result"
        }
      ],
      "source": [
        "# multihot\n",
        "vectorize_layer = tf.keras.layers.TextVectorization(\n",
        "    max_tokens=max_features,\n",
        "    output_mode=\"multi_hot\"\n",
        ")\n",
        "\n",
        "vectorize_layer.adapt(text_dataset)\n",
        "print(vectorize_layer.get_vocabulary())\n",
        "\n",
        "model = tf.keras.models.Sequential()\n",
        "model.add(tf.keras.Input(shape=(1,), dtype=tf.string))\n",
        "model.add(vectorize_layer)\n",
        "\n",
        "input_data = [\"Is this a task or a test\", \"a test\"]   # testdata\n",
        "model.predict(input_data)"
      ]
    },
    {
      "cell_type": "code",
      "execution_count": 13,
      "metadata": {
        "colab": {
          "base_uri": "https://localhost:8080/"
        },
        "id": "Fdm5MpHWon6N",
        "outputId": "87610194-d4b6-4f95-a68f-4d1139ca7df3"
      },
      "outputs": [
        {
          "name": "stdout",
          "output_type": "stream",
          "text": [
            "['[UNK]', 'world', 'this', 'test', 'is', 'hello', 'a']\n",
            "1/1 [==============================] - 0s 84ms/step\n"
          ]
        },
        {
          "data": {
            "text/plain": [
              "array([[2., 0., 1., 1., 1., 0., 2.],\n",
              "       [0., 0., 0., 3., 0., 0., 1.]], dtype=float32)"
            ]
          },
          "execution_count": 13,
          "metadata": {},
          "output_type": "execute_result"
        }
      ],
      "source": [
        "#count\n",
        "vectorize_layer = tf.keras.layers.TextVectorization(\n",
        "    max_tokens=max_features,\n",
        "    output_mode=\"count\"         # tellen in multi-hot hoeveel keer elk woord voorkomt\n",
        ")\n",
        "\n",
        "vectorize_layer.adapt(text_dataset)\n",
        "print(vectorize_layer.get_vocabulary())\n",
        "\n",
        "model = tf.keras.models.Sequential()\n",
        "model.add(tf.keras.Input(shape=(1,), dtype=tf.string))\n",
        "model.add(vectorize_layer)\n",
        "\n",
        "input_data = [\"Is this a task or a test\", \"a test test test\"]   # testdata\n",
        "model.predict(input_data)"
      ]
    },
    {
      "cell_type": "code",
      "execution_count": 15,
      "metadata": {
        "colab": {
          "base_uri": "https://localhost:8080/"
        },
        "id": "MEZEh_Hcon6O",
        "outputId": "28a1de99-b9ef-4627-893f-16efbb455f98"
      },
      "outputs": [
        {
          "name": "stdout",
          "output_type": "stream",
          "text": [
            "['[UNK]', 'world', 'this', 'test', 'is', 'hello', 'a']\n",
            "1/1 [==============================] - 0s 91ms/step\n"
          ]
        },
        {
          "data": {
            "text/plain": [
              "array([[1.3862944, 0.       , 0.6931472, 0.6931472, 0.6931472, 0.       ,\n",
              "        1.3862944],\n",
              "       [0.       , 0.       , 0.       , 2.0794415, 0.       , 0.       ,\n",
              "        0.6931472]], dtype=float32)"
            ]
          },
          "execution_count": 15,
          "metadata": {},
          "output_type": "execute_result"
        }
      ],
      "source": [
        "# tfidf\n",
        "vectorize_layer = tf.keras.layers.TextVectorization(\n",
        "    max_tokens=max_features,\n",
        "    output_mode=\"tf_idf\"         # tellen in multi-hot hoeveel keer elk woord voorkomt, gecorrigeerd met in hoeveel inputs het voorkomt\n",
        ")\n",
        "\n",
        "vectorize_layer.adapt(text_dataset)\n",
        "print(vectorize_layer.get_vocabulary())\n",
        "\n",
        "model = tf.keras.models.Sequential()\n",
        "model.add(tf.keras.Input(shape=(1,), dtype=tf.string))\n",
        "model.add(vectorize_layer)\n",
        "\n",
        "input_data = [\"Is this a task or a test\", \"a test test test\"]   # testdata\n",
        "model.predict(input_data)"
      ]
    },
    {
      "cell_type": "markdown",
      "metadata": {
        "id": "KGHUpdRVon6O"
      },
      "source": [
        "De tweede optie was om te werken met een reeds bestaande woordenboek.\n",
        "Een voorbeeld hiervan zie je in de cell hieronder.\n",
        "Merk op dat je hierbij de adapt functie niet nodig hebt omdat je reeds een woordenboek hebt en er dus niet door de dataset moet gegaan worden."
      ]
    },
    {
      "cell_type": "code",
      "execution_count": 16,
      "metadata": {
        "colab": {
          "base_uri": "https://localhost:8080/"
        },
        "id": "R7UTFPiCon6O",
        "outputId": "949a3760-33bc-4310-8c87-39f730287fce"
      },
      "outputs": [
        {
          "name": "stdout",
          "output_type": "stream",
          "text": [
            "1/1 [==============================] - 0s 73ms/step\n"
          ]
        },
        {
          "data": {
            "text/plain": [
              "array([[1, 1, 1, 5, 1, 1, 4],\n",
              "       [1, 4, 4, 4, 0, 0, 0]], dtype=int64)"
            ]
          },
          "execution_count": 16,
          "metadata": {},
          "output_type": "execute_result"
        }
      ],
      "source": [
        "vocabulary = [\"hello\", \"world\", \"test\", \"task\"]\n",
        "\n",
        "vectorize_layer = tf.keras.layers.TextVectorization(\n",
        "    max_tokens=max_features,\n",
        "    output_mode=\"int\",\n",
        "    vocabulary=vocabulary\n",
        ")\n",
        "\n",
        "# geen adapt nodig hier want er is al een woordenboek\n",
        "\n",
        "model = tf.keras.models.Sequential()\n",
        "model.add(tf.keras.Input(shape=(1,), dtype=tf.string))\n",
        "model.add(vectorize_layer)\n",
        "\n",
        "input_data = [\"Is this a task or a test\", \"a test test test\"]   # testdata\n",
        "model.predict(input_data)"
      ]
    },
    {
      "cell_type": "markdown",
      "metadata": {
        "id": "6zXiPOGion6P"
      },
      "source": [
        "# Embedding layer\n",
        "\n",
        "Het nadeel van een bag-of-words representatie is dat (vooral als je werkt met one-hot, count, tf_idf voorstellingen) je heel snel een heel groot aantal features hebt.\n",
        "Voor deze voorstellingen heb je namelijk een vector van een lengte gelijk aan het aantal woorden in je taal.\n",
        "Als we dan proberen te werken met de Engelse taal zijn er momenteel een 170.000 actieve woorden en in het Nederlands kan dit zelfs oplopen tot 350.000 woorden.\n",
        "Als we vectors van deze lengte doorheen een neuraal netwerk proberen te sturen dan gaat het aantal gewichten gemakkelijk te groot zijn om een efficient, goed werkend model te trainen.\n",
        "\n",
        "De embedding layer biedt een oplossing voor dit probleem door deze heel grote vectors om te zetten naar een een kleinere vector.\n",
        "Dit wordt op een bepaalde manier gedaan om zoveel mogelijk informatie te behouden en om ervoor te zorgen dat woorden/zinnen met een gelijkaardige betekenis leiden tot een vector die gelijkaardig is.\n",
        "Dit laatste wordt gedaan door de laag te trainen.\n",
        "Dit kan je zien met behulp van onderstaand voorbeeld."
      ]
    },
    {
      "cell_type": "code",
      "execution_count": 26,
      "metadata": {
        "colab": {
          "base_uri": "https://localhost:8080/"
        },
        "id": "MrKM6OP_on6P",
        "outputId": "e5b9610e-1b01-46eb-9bbd-9bbbd479946e"
      },
      "outputs": [
        {
          "name": "stdout",
          "output_type": "stream",
          "text": [
            "['', '[UNK]', 'horrible', 'food', 'awesome', 'work', 'waitress', 'services', 'service', 'rude', 'rocks', 'poor', 'never', 'have', 'done', 'couldnt', 'coming', 'cold', 'better', 'back']\n",
            "1/1 [==============================] - 0s 77ms/step\n",
            "[[0.50894576]\n",
            " [0.49906418]\n",
            " [0.5075968 ]\n",
            " [0.5002316 ]\n",
            " [0.50248927]\n",
            " [0.5203443 ]\n",
            " [0.5237206 ]\n",
            " [0.5166307 ]\n",
            " [0.5076946 ]\n",
            " [0.5000466 ]]\n",
            "(10, 1)\n"
          ]
        }
      ],
      "source": [
        "import numpy as np\n",
        "\n",
        "# Define 10 restaurant reviews\n",
        "reviews =[\n",
        "          'Never coming back!',\n",
        "          'horrible service',\n",
        "          'rude waitress',\n",
        "          'cold food',\n",
        "          'horrible food!',\n",
        "          'awesome',\n",
        "          'awesome services!',\n",
        "          'rocks',\n",
        "          'poor work',\n",
        "          'couldn\\'t have done better'\n",
        "]\n",
        "#Define labels\n",
        "labels = np.array([1,1,1,1,1,0,0,0,1,0])\n",
        "\n",
        "max_features = 4000\n",
        "max_len = 5\n",
        "\n",
        "vectorize_layer = tf.keras.layers.TextVectorization(\n",
        "    max_tokens = max_features,\n",
        "    output_mode=\"int\",\n",
        "    output_sequence_length=max_len\n",
        ")\n",
        "\n",
        "vectorize_layer.adapt(reviews)  # stel woordenboek op\n",
        "voc = vectorize_layer.get_vocabulary()\n",
        "print(voc)\n",
        "\n",
        "\n",
        "model = tf.keras.models.Sequential()\n",
        "model.add(tf.keras.Input(shape=(1,), dtype=tf.string))\n",
        "model.add(vectorize_layer)\n",
        "\n",
        "embedding = tf.keras.layers.Embedding(\n",
        "    input_dim=len(voc),\n",
        "    output_dim=8,\n",
        "    input_length=max_len\n",
        ")\n",
        "model.add(embedding)\n",
        "\n",
        "model.add(tf.keras.layers.Flatten())\n",
        "model.add(tf.keras.layers.Dense(1, activation=\"sigmoid\"))\n",
        "\n",
        "result = model.predict(reviews)\n",
        "print(result)\n",
        "print(result.shape)\n"
      ]
    },
    {
      "cell_type": "code",
      "execution_count": 27,
      "metadata": {
        "colab": {
          "base_uri": "https://localhost:8080/"
        },
        "id": "FOvF8VOson6P",
        "outputId": "6112311a-6f11-43fa-ed87-e9e38283875e"
      },
      "outputs": [
        {
          "name": "stdout",
          "output_type": "stream",
          "text": [
            "Epoch 1/100\n",
            "1/1 [==============================] - 0s 351ms/step - loss: 0.7004 - acc: 0.5000\n",
            "Epoch 2/100\n",
            "1/1 [==============================] - 0s 6ms/step - loss: 0.6977 - acc: 0.7000\n",
            "Epoch 3/100\n",
            "1/1 [==============================] - 0s 7ms/step - loss: 0.6951 - acc: 0.7000\n",
            "Epoch 4/100\n",
            "1/1 [==============================] - 0s 6ms/step - loss: 0.6925 - acc: 0.7000\n",
            "Epoch 5/100\n",
            "1/1 [==============================] - 0s 8ms/step - loss: 0.6899 - acc: 0.7000\n",
            "Epoch 6/100\n",
            "1/1 [==============================] - 0s 9ms/step - loss: 0.6873 - acc: 0.7000\n",
            "Epoch 7/100\n",
            "1/1 [==============================] - 0s 7ms/step - loss: 0.6847 - acc: 0.7000\n",
            "Epoch 8/100\n",
            "1/1 [==============================] - 0s 7ms/step - loss: 0.6822 - acc: 0.7000\n",
            "Epoch 9/100\n",
            "1/1 [==============================] - 0s 8ms/step - loss: 0.6796 - acc: 0.7000\n",
            "Epoch 10/100\n",
            "1/1 [==============================] - 0s 10ms/step - loss: 0.6771 - acc: 0.7000\n",
            "Epoch 11/100\n",
            "1/1 [==============================] - 0s 7ms/step - loss: 0.6746 - acc: 0.7000\n",
            "Epoch 12/100\n",
            "1/1 [==============================] - 0s 8ms/step - loss: 0.6721 - acc: 0.7000\n",
            "Epoch 13/100\n",
            "1/1 [==============================] - 0s 10ms/step - loss: 0.6696 - acc: 0.7000\n",
            "Epoch 14/100\n",
            "1/1 [==============================] - 0s 9ms/step - loss: 0.6671 - acc: 0.7000\n",
            "Epoch 15/100\n",
            "1/1 [==============================] - 0s 9ms/step - loss: 0.6646 - acc: 0.7000\n",
            "Epoch 16/100\n",
            "1/1 [==============================] - 0s 9ms/step - loss: 0.6621 - acc: 0.7000\n",
            "Epoch 17/100\n",
            "1/1 [==============================] - 0s 7ms/step - loss: 0.6596 - acc: 0.7000\n",
            "Epoch 18/100\n",
            "1/1 [==============================] - 0s 7ms/step - loss: 0.6571 - acc: 0.7000\n",
            "Epoch 19/100\n",
            "1/1 [==============================] - 0s 8ms/step - loss: 0.6547 - acc: 0.7000\n",
            "Epoch 20/100\n",
            "1/1 [==============================] - 0s 7ms/step - loss: 0.6522 - acc: 0.7000\n",
            "Epoch 21/100\n",
            "1/1 [==============================] - 0s 7ms/step - loss: 0.6497 - acc: 0.7000\n",
            "Epoch 22/100\n",
            "1/1 [==============================] - 0s 9ms/step - loss: 0.6472 - acc: 0.7000\n",
            "Epoch 23/100\n",
            "1/1 [==============================] - 0s 8ms/step - loss: 0.6448 - acc: 0.7000\n",
            "Epoch 24/100\n",
            "1/1 [==============================] - 0s 6ms/step - loss: 0.6423 - acc: 0.7000\n",
            "Epoch 25/100\n",
            "1/1 [==============================] - 0s 8ms/step - loss: 0.6398 - acc: 0.7000\n",
            "Epoch 26/100\n",
            "1/1 [==============================] - 0s 9ms/step - loss: 0.6374 - acc: 0.7000\n",
            "Epoch 27/100\n",
            "1/1 [==============================] - 0s 7ms/step - loss: 0.6349 - acc: 0.7000\n",
            "Epoch 28/100\n",
            "1/1 [==============================] - 0s 8ms/step - loss: 0.6324 - acc: 0.7000\n",
            "Epoch 29/100\n",
            "1/1 [==============================] - 0s 7ms/step - loss: 0.6299 - acc: 0.7000\n",
            "Epoch 30/100\n",
            "1/1 [==============================] - 0s 7ms/step - loss: 0.6274 - acc: 0.7000\n",
            "Epoch 31/100\n",
            "1/1 [==============================] - 0s 7ms/step - loss: 0.6249 - acc: 0.7000\n",
            "Epoch 32/100\n",
            "1/1 [==============================] - 0s 6ms/step - loss: 0.6224 - acc: 0.7000\n",
            "Epoch 33/100\n",
            "1/1 [==============================] - 0s 7ms/step - loss: 0.6199 - acc: 0.7000\n",
            "Epoch 34/100\n",
            "1/1 [==============================] - 0s 6ms/step - loss: 0.6174 - acc: 0.7000\n",
            "Epoch 35/100\n",
            "1/1 [==============================] - 0s 6ms/step - loss: 0.6149 - acc: 0.7000\n",
            "Epoch 36/100\n",
            "1/1 [==============================] - 0s 7ms/step - loss: 0.6124 - acc: 0.7000\n",
            "Epoch 37/100\n",
            "1/1 [==============================] - 0s 7ms/step - loss: 0.6099 - acc: 0.7000\n",
            "Epoch 38/100\n",
            "1/1 [==============================] - 0s 7ms/step - loss: 0.6073 - acc: 0.7000\n",
            "Epoch 39/100\n",
            "1/1 [==============================] - 0s 9ms/step - loss: 0.6048 - acc: 0.7000\n",
            "Epoch 40/100\n",
            "1/1 [==============================] - 0s 8ms/step - loss: 0.6022 - acc: 0.7000\n",
            "Epoch 41/100\n",
            "1/1 [==============================] - 0s 8ms/step - loss: 0.5997 - acc: 0.7000\n",
            "Epoch 42/100\n",
            "1/1 [==============================] - 0s 8ms/step - loss: 0.5971 - acc: 0.7000\n",
            "Epoch 43/100\n",
            "1/1 [==============================] - 0s 7ms/step - loss: 0.5946 - acc: 0.7000\n",
            "Epoch 44/100\n",
            "1/1 [==============================] - 0s 6ms/step - loss: 0.5920 - acc: 0.7000\n",
            "Epoch 45/100\n",
            "1/1 [==============================] - 0s 7ms/step - loss: 0.5894 - acc: 0.7000\n",
            "Epoch 46/100\n",
            "1/1 [==============================] - 0s 7ms/step - loss: 0.5868 - acc: 0.7000\n",
            "Epoch 47/100\n",
            "1/1 [==============================] - 0s 9ms/step - loss: 0.5842 - acc: 0.7000\n",
            "Epoch 48/100\n",
            "1/1 [==============================] - 0s 8ms/step - loss: 0.5817 - acc: 0.7000\n",
            "Epoch 49/100\n",
            "1/1 [==============================] - 0s 6ms/step - loss: 0.5790 - acc: 0.7000\n",
            "Epoch 50/100\n",
            "1/1 [==============================] - 0s 7ms/step - loss: 0.5764 - acc: 0.7000\n",
            "Epoch 51/100\n",
            "1/1 [==============================] - 0s 7ms/step - loss: 0.5738 - acc: 0.7000\n",
            "Epoch 52/100\n",
            "1/1 [==============================] - 0s 13ms/step - loss: 0.5712 - acc: 0.7000\n",
            "Epoch 53/100\n",
            "1/1 [==============================] - 0s 7ms/step - loss: 0.5686 - acc: 0.7000\n",
            "Epoch 54/100\n",
            "1/1 [==============================] - 0s 6ms/step - loss: 0.5660 - acc: 0.7000\n",
            "Epoch 55/100\n",
            "1/1 [==============================] - 0s 6ms/step - loss: 0.5633 - acc: 0.7000\n",
            "Epoch 56/100\n",
            "1/1 [==============================] - 0s 9ms/step - loss: 0.5607 - acc: 0.7000\n",
            "Epoch 57/100\n",
            "1/1 [==============================] - 0s 8ms/step - loss: 0.5580 - acc: 0.7000\n",
            "Epoch 58/100\n",
            "1/1 [==============================] - 0s 7ms/step - loss: 0.5554 - acc: 0.7000\n",
            "Epoch 59/100\n",
            "1/1 [==============================] - 0s 6ms/step - loss: 0.5527 - acc: 0.7000\n",
            "Epoch 60/100\n",
            "1/1 [==============================] - 0s 8ms/step - loss: 0.5501 - acc: 0.7000\n",
            "Epoch 61/100\n",
            "1/1 [==============================] - 0s 8ms/step - loss: 0.5474 - acc: 0.7000\n",
            "Epoch 62/100\n",
            "1/1 [==============================] - 0s 7ms/step - loss: 0.5447 - acc: 0.7000\n",
            "Epoch 63/100\n",
            "1/1 [==============================] - 0s 8ms/step - loss: 0.5420 - acc: 0.7000\n",
            "Epoch 64/100\n",
            "1/1 [==============================] - 0s 8ms/step - loss: 0.5393 - acc: 0.7000\n",
            "Epoch 65/100\n",
            "1/1 [==============================] - 0s 7ms/step - loss: 0.5367 - acc: 0.7000\n",
            "Epoch 66/100\n",
            "1/1 [==============================] - 0s 7ms/step - loss: 0.5340 - acc: 0.7000\n",
            "Epoch 67/100\n",
            "1/1 [==============================] - 0s 7ms/step - loss: 0.5312 - acc: 0.7000\n",
            "Epoch 68/100\n",
            "1/1 [==============================] - 0s 8ms/step - loss: 0.5285 - acc: 0.7000\n",
            "Epoch 69/100\n",
            "1/1 [==============================] - 0s 7ms/step - loss: 0.5258 - acc: 0.7000\n",
            "Epoch 70/100\n",
            "1/1 [==============================] - 0s 7ms/step - loss: 0.5231 - acc: 0.7000\n",
            "Epoch 71/100\n",
            "1/1 [==============================] - 0s 9ms/step - loss: 0.5204 - acc: 0.7000\n",
            "Epoch 72/100\n",
            "1/1 [==============================] - 0s 8ms/step - loss: 0.5176 - acc: 0.7000\n",
            "Epoch 73/100\n",
            "1/1 [==============================] - 0s 7ms/step - loss: 0.5149 - acc: 0.7000\n",
            "Epoch 74/100\n",
            "1/1 [==============================] - 0s 8ms/step - loss: 0.5122 - acc: 0.7000\n",
            "Epoch 75/100\n",
            "1/1 [==============================] - 0s 9ms/step - loss: 0.5094 - acc: 0.7000\n",
            "Epoch 76/100\n",
            "1/1 [==============================] - 0s 6ms/step - loss: 0.5067 - acc: 0.7000\n",
            "Epoch 77/100\n",
            "1/1 [==============================] - 0s 7ms/step - loss: 0.5039 - acc: 0.7000\n",
            "Epoch 78/100\n",
            "1/1 [==============================] - 0s 9ms/step - loss: 0.5011 - acc: 0.7000\n",
            "Epoch 79/100\n",
            "1/1 [==============================] - 0s 8ms/step - loss: 0.4984 - acc: 0.7000\n",
            "Epoch 80/100\n",
            "1/1 [==============================] - 0s 7ms/step - loss: 0.4956 - acc: 0.7000\n",
            "Epoch 81/100\n",
            "1/1 [==============================] - 0s 7ms/step - loss: 0.4928 - acc: 0.7000\n",
            "Epoch 82/100\n",
            "1/1 [==============================] - 0s 8ms/step - loss: 0.4900 - acc: 0.7000\n",
            "Epoch 83/100\n",
            "1/1 [==============================] - 0s 8ms/step - loss: 0.4873 - acc: 0.7000\n",
            "Epoch 84/100\n",
            "1/1 [==============================] - 0s 6ms/step - loss: 0.4845 - acc: 0.7000\n",
            "Epoch 85/100\n",
            "1/1 [==============================] - 0s 7ms/step - loss: 0.4817 - acc: 0.7000\n",
            "Epoch 86/100\n",
            "1/1 [==============================] - 0s 10ms/step - loss: 0.4789 - acc: 0.7000\n",
            "Epoch 87/100\n",
            "1/1 [==============================] - 0s 7ms/step - loss: 0.4761 - acc: 0.7000\n",
            "Epoch 88/100\n",
            "1/1 [==============================] - 0s 7ms/step - loss: 0.4733 - acc: 0.7000\n",
            "Epoch 89/100\n",
            "1/1 [==============================] - 0s 11ms/step - loss: 0.4705 - acc: 0.7000\n",
            "Epoch 90/100\n",
            "1/1 [==============================] - 0s 6ms/step - loss: 0.4676 - acc: 0.7000\n",
            "Epoch 91/100\n",
            "1/1 [==============================] - 0s 7ms/step - loss: 0.4648 - acc: 0.7000\n",
            "Epoch 92/100\n",
            "1/1 [==============================] - 0s 8ms/step - loss: 0.4620 - acc: 0.8000\n",
            "Epoch 93/100\n",
            "1/1 [==============================] - 0s 6ms/step - loss: 0.4592 - acc: 0.8000\n",
            "Epoch 94/100\n",
            "1/1 [==============================] - 0s 6ms/step - loss: 0.4564 - acc: 0.8000\n",
            "Epoch 95/100\n",
            "1/1 [==============================] - 0s 7ms/step - loss: 0.4536 - acc: 0.8000\n",
            "Epoch 96/100\n",
            "1/1 [==============================] - 0s 9ms/step - loss: 0.4507 - acc: 0.8000\n",
            "Epoch 97/100\n",
            "1/1 [==============================] - 0s 8ms/step - loss: 0.4479 - acc: 0.8000\n",
            "Epoch 98/100\n",
            "1/1 [==============================] - 0s 13ms/step - loss: 0.4451 - acc: 0.8000\n",
            "Epoch 99/100\n",
            "1/1 [==============================] - 0s 12ms/step - loss: 0.4423 - acc: 0.8000\n",
            "Epoch 100/100\n",
            "1/1 [==============================] - 0s 6ms/step - loss: 0.4394 - acc: 0.8000\n"
          ]
        },
        {
          "data": {
            "text/plain": [
              "<keras.callbacks.History at 0x20dfc85ece0>"
            ]
          },
          "execution_count": 27,
          "metadata": {},
          "output_type": "execute_result"
        }
      ],
      "source": [
        "model.compile(optimizer=\"adam\", loss=\"binary_crossentropy\", metrics=\"acc\")\n",
        "model.fit(np.array(reviews), labels, epochs=100)     # np.array toegevoegd omdat hij een error geeft van een list met strings in en een ndarray verwacht"
      ]
    },
    {
      "cell_type": "code",
      "execution_count": 28,
      "metadata": {
        "colab": {
          "base_uri": "https://localhost:8080/"
        },
        "id": "QiFmGRkwon6Q",
        "outputId": "14215092-6314-498e-ba79-d7134a2423f8"
      },
      "outputs": [
        {
          "name": "stdout",
          "output_type": "stream",
          "text": [
            "1/1 [==============================] - 0s 70ms/step\n",
            "[[-0.06751344  0.10913604  0.08963987 -0.13533    -0.12803595 -0.13993467\n",
            "  -0.06320789 -0.13917497]\n",
            " [ 0.09950032 -0.07429127  0.13021801  0.07609008  0.13192415  0.0892982\n",
            "  -0.07705485  0.08932331]\n",
            " [ 0.15387483 -0.0521545  -0.1263566  -0.06699432  0.09208169  0.08625455\n",
            "   0.03645432 -0.13149278]\n",
            " [-0.09597197  0.03050097 -0.08561945 -0.12672745 -0.07926934  0.07998829\n",
            "   0.00899859 -0.10850864]\n",
            " [-0.09597197  0.03050097 -0.08561945 -0.12672745 -0.07926934  0.07998829\n",
            "   0.00899859 -0.10850864]]\n",
            "[[-0.05855052  0.13747776  0.07279737 -0.09865155 -0.07599299 -0.05144841\n",
            "  -0.08933021 -0.13819373]\n",
            " [ 0.14325856 -0.04252816  0.05491921  0.05198886  0.0656728   0.09407751\n",
            "  -0.07748551  0.13699444]\n",
            " [-0.09597197  0.03050097 -0.08561945 -0.12672745 -0.07926934  0.07998829\n",
            "   0.00899859 -0.10850864]\n",
            " [-0.09597197  0.03050097 -0.08561945 -0.12672745 -0.07926934  0.07998829\n",
            "   0.00899859 -0.10850864]\n",
            " [-0.09597197  0.03050097 -0.08561945 -0.12672745 -0.07926934  0.07998829\n",
            "   0.00899859 -0.10850864]]\n",
            "[[ 0.06320536 -0.08811747 -0.06822333  0.17193775  0.10767279  0.10061505\n",
            "   0.06061254  0.08643574]\n",
            " [-0.09597197  0.03050097 -0.08561945 -0.12672745 -0.07926934  0.07998829\n",
            "   0.00899859 -0.10850864]\n",
            " [-0.09597197  0.03050097 -0.08561945 -0.12672745 -0.07926934  0.07998829\n",
            "   0.00899859 -0.10850864]\n",
            " [-0.09597197  0.03050097 -0.08561945 -0.12672745 -0.07926934  0.07998829\n",
            "   0.00899859 -0.10850864]\n",
            " [-0.09597197  0.03050097 -0.08561945 -0.12672745 -0.07926934  0.07998829\n",
            "   0.00899859 -0.10850864]]\n",
            "[[ 0.06320536 -0.08811747 -0.06822333  0.17193775  0.10767279  0.10061505\n",
            "   0.06061254  0.08643574]\n",
            " [-0.06804467  0.06230389 -0.14087002 -0.09928776 -0.09069022 -0.15022662\n",
            "   0.11047219 -0.07378631]\n",
            " [-0.09597197  0.03050097 -0.08561945 -0.12672745 -0.07926934  0.07998829\n",
            "   0.00899859 -0.10850864]\n",
            " [-0.09597197  0.03050097 -0.08561945 -0.12672745 -0.07926934  0.07998829\n",
            "   0.00899859 -0.10850864]\n",
            " [-0.09597197  0.03050097 -0.08561945 -0.12672745 -0.07926934  0.07998829\n",
            "   0.00899859 -0.10850864]]\n"
          ]
        }
      ],
      "source": [
        "model = tf.keras.models.Sequential()\n",
        "model.add(tf.keras.Input(shape=(1,), dtype=tf.string))\n",
        "model.add(vectorize_layer)\n",
        "model.add(embedding)\n",
        "\n",
        "result = model.predict(reviews)\n",
        "\n",
        "print(result[0])\n",
        "print(result[1])\n",
        "print(result[5])\n",
        "print(result[6])"
      ]
    },
    {
      "cell_type": "markdown",
      "metadata": {
        "id": "TnvG8xE9on6Q"
      },
      "source": [
        "Het trainen van deze embedding layers is mogelijk maar dit kan heel snel heel complex worden omdat je hiervoor juist wel moet werken met deze grootte tensors.\n",
        "Dit kan snel je pc overbelasten of te veel van je RAM geheugen innemen.\n",
        "Gelukkig is het mogelijk om ook te werken met pre-trained embedded layers.\n",
        "Hoe je dit doet, kan je [hier](https://keras.io/examples/nlp/pretrained_word_embeddings/#load-pretrained-word-embeddings) lezen maar een snapshot zie je in onderstaande code:"
      ]
    },
    {
      "cell_type": "code",
      "execution_count": null,
      "metadata": {
        "colab": {
          "base_uri": "https://localhost:8080/"
        },
        "id": "8_B3cALipo_S",
        "outputId": "91b70dcc-f67a-413f-fc00-af953ff16256"
      },
      "outputs": [],
      "source": []
    },
    {
      "cell_type": "code",
      "execution_count": null,
      "metadata": {
        "colab": {
          "base_uri": "https://localhost:8080/"
        },
        "id": "nV_kp2w8on6Q",
        "outputId": "2085e51b-ec70-4245-9490-71878b39bd1b"
      },
      "outputs": [],
      "source": [
        "import opendatasets as od\n",
        "import zipfile\n",
        "\n",
        "od.download(\"http://nlp.stanford.edu/data/glove.6B.zip\") # let op, dit is bijna 1 gb"
      ]
    },
    {
      "cell_type": "code",
      "execution_count": null,
      "metadata": {
        "id": "fUkuOgf6wDrQ"
      },
      "outputs": [],
      "source": [
        "with zipfile.ZipFile(\"glove.6B.zip\") as zf:\n",
        "    zf.extractall(\"./pretrained\")"
      ]
    },
    {
      "cell_type": "code",
      "execution_count": 29,
      "metadata": {
        "colab": {
          "base_uri": "https://localhost:8080/"
        },
        "id": "6zhZ08-Gon6Q",
        "outputId": "c59624e2-4abc-42b1-b086-36985436a3f8"
      },
      "outputs": [
        {
          "name": "stdout",
          "output_type": "stream",
          "text": [
            "Found 400000 word vectors.\n"
          ]
        }
      ],
      "source": [
        "path_to_glove_file = \"./pretrained/glove.6B.50d.txt\"\n",
        "\n",
        "embeddings_index = {}\n",
        "with open(path_to_glove_file, encoding=\"utf-8\") as f:\n",
        "    for line in f:\n",
        "        word, coefs = line.split(maxsplit=1)\n",
        "        coefs = np.fromstring(coefs, \"f\", sep=\" \")\n",
        "        embeddings_index[word] = coefs\n",
        "\n",
        "print(\"Found %s word vectors.\" % len(embeddings_index))"
      ]
    },
    {
      "cell_type": "code",
      "execution_count": 30,
      "metadata": {
        "colab": {
          "base_uri": "https://localhost:8080/"
        },
        "id": "e4Hef13Non6R",
        "outputId": "b66b6e14-7ee7-4b6b-e9c8-9c5a87b1914b"
      },
      "outputs": [
        {
          "name": "stdout",
          "output_type": "stream",
          "text": [
            "Converted 18 words (2 misses)\n"
          ]
        }
      ],
      "source": [
        "voc = vectorize_layer.get_vocabulary()\n",
        "word_index = dict(zip(voc, range(len(voc))))\n",
        "\n",
        "num_tokens = len(voc) + 2\n",
        "embedding_dim = 50\n",
        "hits = 0\n",
        "misses = 0\n",
        "\n",
        "# Prepare embedding matrix\n",
        "embedding_matrix = np.zeros((num_tokens, embedding_dim))\n",
        "for word, i in word_index.items():\n",
        "    embedding_vector = embeddings_index.get(word)\n",
        "    if embedding_vector is not None:\n",
        "        # Words not found in embedding index will be all-zeros.\n",
        "        # This includes the representation for \"padding\" and \"OOV\"\n",
        "        embedding_matrix[i] = embedding_vector\n",
        "        hits += 1\n",
        "    else:\n",
        "        misses += 1\n",
        "print(\"Converted %d words (%d misses)\" % (hits, misses))"
      ]
    },
    {
      "cell_type": "code",
      "execution_count": 33,
      "metadata": {
        "colab": {
          "base_uri": "https://localhost:8080/"
        },
        "id": "E57gFUVWon6R",
        "outputId": "a49e9368-f8f7-4a2b-b451-7ac809aa6755"
      },
      "outputs": [
        {
          "name": "stdout",
          "output_type": "stream",
          "text": [
            "1/1 [==============================] - 0s 80ms/step\n",
            "[[[ 0.095387  -0.16865   -0.11514   ... -0.42103   -0.53817    0.13738  ]\n",
            "  [ 0.2169     0.010103   0.20451   ...  0.047386  -0.018309  -0.014132 ]\n",
            "  [ 0.0046218 -0.25678    0.3532    ... -0.80837   -0.33017   -0.62638  ]\n",
            "  [ 0.         0.         0.        ...  0.         0.         0.       ]\n",
            "  [ 0.         0.         0.        ...  0.         0.         0.       ]]\n",
            "\n",
            " [[ 0.3614    -0.55138   -0.70054   ...  0.23911    0.60709    0.44516  ]\n",
            "  [ 0.13409    0.68926    0.45086   ...  0.29695   -0.006097   0.94897  ]\n",
            "  [ 0.         0.         0.        ...  0.         0.         0.       ]\n",
            "  [ 0.         0.         0.        ...  0.         0.         0.       ]\n",
            "  [ 0.         0.         0.        ...  0.         0.         0.       ]]\n",
            "\n",
            " [[-0.4129    -0.37602   -0.99697   ...  0.57652    0.78847    1.4029   ]\n",
            "  [-0.071998   0.14877   -0.97656   ... -0.80378    0.63032    0.97174  ]\n",
            "  [ 0.         0.         0.        ...  0.         0.         0.       ]\n",
            "  [ 0.         0.         0.        ...  0.         0.         0.       ]\n",
            "  [ 0.         0.         0.        ...  0.         0.         0.       ]]\n",
            "\n",
            " ...\n",
            "\n",
            " [[-0.13424    0.25425    0.39907   ... -0.7476    -0.08266   -2.1595   ]\n",
            "  [ 0.         0.         0.        ...  0.         0.         0.       ]\n",
            "  [ 0.         0.         0.        ...  0.         0.         0.       ]\n",
            "  [ 0.         0.         0.        ...  0.         0.         0.       ]\n",
            "  [ 0.         0.         0.        ...  0.         0.         0.       ]]\n",
            "\n",
            " [[-0.53819   -0.40788   -0.1963    ...  0.05218    1.0731     0.035629 ]\n",
            "  [ 0.51359    0.19695   -0.51944   ...  0.046842  -0.62897    0.35726  ]\n",
            "  [ 0.         0.         0.        ...  0.         0.         0.       ]\n",
            "  [ 0.         0.         0.        ...  0.         0.         0.       ]\n",
            "  [ 0.         0.         0.        ...  0.         0.         0.       ]]\n",
            "\n",
            " [[ 0.39251   -1.4227     0.14749   ...  0.8426    -0.16919    0.47253  ]\n",
            "  [ 0.94911   -0.34968    0.48125   ...  0.36233   -0.72512   -0.6089   ]\n",
            "  [ 0.33076   -0.4387    -0.32163   ...  0.33312   -0.22252    0.74457  ]\n",
            "  [-0.1209    -0.16821    0.24099   ...  0.12755    0.066461   1.1163   ]\n",
            "  [ 0.         0.         0.        ...  0.         0.         0.       ]]]\n",
            "(10, 5, 50)\n"
          ]
        }
      ],
      "source": [
        "embedding_layer = tf.keras.layers.Embedding(\n",
        "    num_tokens,\n",
        "    embedding_dim,          # dimensies van de gekozen pretrained embedding\n",
        "    embeddings_initializer= tf.keras.initializers.Constant(embedding_matrix),\n",
        "    trainable=False\n",
        ")\n",
        "\n",
        "model = tf.keras.models.Sequential()\n",
        "model.add(tf.keras.Input(shape=(1,), dtype=tf.string))\n",
        "model.add(vectorize_layer)\n",
        "model.add(embedding_layer)\n",
        "\n",
        "result = model.predict(reviews)\n",
        "print(result)\n",
        "print(result.shape)"
      ]
    },
    {
      "cell_type": "markdown",
      "metadata": {
        "id": "ttWx9acCon6R"
      },
      "source": [
        "# Recurrente Neurale Netwerken\n",
        "\n",
        "Zoals in de les besproken zijn recurrente neurale netwerken een type van neurale netwerken waarbij er een bepaalde state bijgehouden wordt\n",
        "die doorgegeven wordt doorheen de tijd.\n",
        "Dit wil dus zeggen dat we de woorden/n-grammen 1 voor 1 aan het neuraal netwerk doorgeven (ook als sequentie genoemd).\n",
        "De output is dan ook een sequentie dus is het belangrijk om deze output bij te houden doorheen de tijd.\n",
        "\n",
        "De bedoeling van deze structuren is om geheugen in het netwerk te introduceren.\n",
        "Hierdoor is het mogelijk om complexere verbanden te detecteren doorheen de tijd in bijvoorbeeld geschreven tekst, audio of video.\n",
        "Om dit geheugen toe te voegen in neurale netwerken kunnen de volgende lagen gebruikt worden:\n",
        "* RNN\n",
        "* LSTM\n",
        "* GRU\n",
        "\n",
        "RNN is de basis structuur. Het voordeel van deze structuur is dat het de eenvoudigste is maar het geheugen dat hierdoor voorzien word is maar kort.\n",
        "Deze laag heeft snel problemen door het vanishing gradient problem.\n",
        "De LSTM en GRU lagen zijn complexer en werken met gates om te bepalen welke informatie bijgehouden wordt in de state en welke genegeerd wordt.\n",
        "Hierdoor kunnen deze lagen een langer geheugen hebben.\n",
        "De benodigde rekenkracht voor deze lagen licht wel een stuk hoger.\n",
        "Ook is er een hogere kans dat deze lagen overfitten en door de complexere structuur is het toevoegen van dropout ook complexer.\n",
        "\n",
        "Er zijn 4 types netwerk architecturen die mogelijk zijn bij het werken met recurrente neurale netwerken, namelijk:\n",
        "* One-to-One\n",
        "* Many-to-One\n",
        "* One-to-Many\n",
        "* Many-to-Many\n",
        "\n",
        "In de rest van deze notebook worden deze 4 architecturen bestudeerd. Op het einde bekijken we ook de resultaten van een populair pre-trained netwerk, namelijk het BERT netwerk, om te werken met tekstuele data."
      ]
    },
    {
      "cell_type": "markdown",
      "metadata": {
        "id": "nLA165APon6R"
      },
      "source": [
        "## One-to-One\n",
        "\n",
        "Eerst gaan we kijken naar de one-to-one architectuur. \n",
        "Dit is eigenlijk overeenkomstig met alles wat we reeds gedaan hebben want dit is dat je 1 input geeft en je krijgt 1 output. Er is geen state die doorgegeven wordt naar de volgende tijdstappen.\n",
        "\n",
        "![one-to-one.png](data:image/png;base64,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)"
      ]
    },
    {
      "cell_type": "markdown",
      "metadata": {
        "id": "qNV2Xp8Lon6R"
      },
      "source": [
        "## Many-to-One\n",
        "\n",
        "Een tweede architectuur waar wel sprake is van recurrente verbindingen is de many-to-one architectuur.\n",
        "Dit is de typische architectuur voor classificatie van teksten.\n",
        "Hierbij geef je woord per woord door wat je input is en op het einde heb je 1 output, namelijk de klasse van de tekst.\n",
        "\n",
        "![many-to-one.png](data:image/png;base64,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)\n",
        "\n",
        "In de code hieronder staat er een voorbeeld om dit soort problemen op te lossen voor fake news classificatie."
      ]
    },
    {
      "cell_type": "code",
      "execution_count": 35,
      "metadata": {
        "colab": {
          "base_uri": "https://localhost:8080/"
        },
        "id": "yKV3GnTCon6S",
        "outputId": "338d98ab-59f2-4643-be28-732c9054351b"
      },
      "outputs": [
        {
          "name": "stdout",
          "output_type": "stream",
          "text": [
            "Please provide your Kaggle credentials to download this dataset. Learn more: http://bit.ly/kaggle-creds\n",
            "Your Kaggle username:Your Kaggle Key:Downloading misinformation-fake-news-text-dataset-79k.zip to .\\misinformation-fake-news-text-dataset-79k\n"
          ]
        },
        {
          "name": "stderr",
          "output_type": "stream",
          "text": [
            "100%|██████████| 84.6M/84.6M [00:03<00:00, 28.3MB/s]\n"
          ]
        },
        {
          "name": "stdout",
          "output_type": "stream",
          "text": [
            "\n"
          ]
        }
      ],
      "source": [
        "import opendatasets as od\n",
        "od.download(\"https://www.kaggle.com/datasets/stevenpeutz/misinformation-fake-news-text-dataset-79k\")"
      ]
    },
    {
      "cell_type": "code",
      "execution_count": 50,
      "metadata": {
        "colab": {
          "base_uri": "https://localhost:8080/",
          "height": 206
        },
        "id": "-us5rOV2on6S",
        "outputId": "73906a58-3420-466a-b224-301a7d6b7029"
      },
      "outputs": [
        {
          "data": {
            "text/html": [
              "<div>\n",
              "<style scoped>\n",
              "    .dataframe tbody tr th:only-of-type {\n",
              "        vertical-align: middle;\n",
              "    }\n",
              "\n",
              "    .dataframe tbody tr th {\n",
              "        vertical-align: top;\n",
              "    }\n",
              "\n",
              "    .dataframe thead th {\n",
              "        text-align: right;\n",
              "    }\n",
              "</style>\n",
              "<table border=\"1\" class=\"dataframe\">\n",
              "  <thead>\n",
              "    <tr style=\"text-align: right;\">\n",
              "      <th></th>\n",
              "      <th>text</th>\n",
              "      <th>label</th>\n",
              "    </tr>\n",
              "  </thead>\n",
              "  <tbody>\n",
              "    <tr>\n",
              "      <th>0</th>\n",
              "      <td>Donald Trump just couldn t wish all Americans ...</td>\n",
              "      <td>1</td>\n",
              "    </tr>\n",
              "    <tr>\n",
              "      <th>1</th>\n",
              "      <td>House Intelligence Committee Chairman Devin Nu...</td>\n",
              "      <td>1</td>\n",
              "    </tr>\n",
              "    <tr>\n",
              "      <th>2</th>\n",
              "      <td>On Friday, it was revealed that former Milwauk...</td>\n",
              "      <td>1</td>\n",
              "    </tr>\n",
              "    <tr>\n",
              "      <th>3</th>\n",
              "      <td>On Christmas day, Donald Trump announced that ...</td>\n",
              "      <td>1</td>\n",
              "    </tr>\n",
              "    <tr>\n",
              "      <th>4</th>\n",
              "      <td>Pope Francis used his annual Christmas Day mes...</td>\n",
              "      <td>1</td>\n",
              "    </tr>\n",
              "  </tbody>\n",
              "</table>\n",
              "</div>"
            ],
            "text/plain": [
              "                                                text  label\n",
              "0  Donald Trump just couldn t wish all Americans ...      1\n",
              "1  House Intelligence Committee Chairman Devin Nu...      1\n",
              "2  On Friday, it was revealed that former Milwauk...      1\n",
              "3  On Christmas day, Donald Trump announced that ...      1\n",
              "4  Pope Francis used his annual Christmas Day mes...      1"
            ]
          },
          "metadata": {},
          "output_type": "display_data"
        }
      ],
      "source": [
        "import pandas as pd\n",
        "from sklearn.model_selection import train_test_split\n",
        "import tensorflow as tf\n",
        "\n",
        "df_fake = pd.read_csv(\"./misinformation-fake-news-text-dataset-79k/DataSet_Misinfo_FAKE.csv\")\n",
        "df_fake[\"label\"] = 1\n",
        "df_true = pd.read_csv(\"./misinformation-fake-news-text-dataset-79k/DataSet_Misinfo_TRUE.csv\")\n",
        "df_true[\"label\"] = 0\n",
        "df = pd.concat([df_fake, df_true])[[\"text\", \"label\"]]\n",
        "df = df.dropna()\n",
        "\n",
        "# note - alle fake news staat eerst, daarna het echte nieuws --> hiermee moet rekening gehouden worden bij het splitsen\n",
        "display(df.head())\n",
        "\n",
        "max_text_length = 4#df.text.str.len().max()\n",
        "X = df.text\n",
        "y = df.label\n",
        "\n",
        "X_train, X_test, y_train, y_test = train_test_split(X, y, test_size=0.2, shuffle=True)\n",
        "\n",
        "X_train = tf.convert_to_tensor(X_train.to_list())\n",
        "X_test =  tf.convert_to_tensor(X_test.to_list())\n",
        "y_train =  tf.convert_to_tensor(y_train.to_list())\n",
        "y_test =  tf.convert_to_tensor(y_test.to_list())"
      ]
    },
    {
      "cell_type": "code",
      "execution_count": 51,
      "metadata": {
        "colab": {
          "base_uri": "https://localhost:8080/"
        },
        "id": "S9JHrzFrs1mT",
        "outputId": "8073eacf-a6f9-4aeb-b1f2-87d72b83e025"
      },
      "outputs": [
        {
          "name": "stdout",
          "output_type": "stream",
          "text": [
            "<class 'pandas.core.frame.DataFrame'>\n",
            "Int64Index: 78588 entries, 0 to 34974\n",
            "Data columns (total 2 columns):\n",
            " #   Column  Non-Null Count  Dtype \n",
            "---  ------  --------------  ----- \n",
            " 0   text    78588 non-null  object\n",
            " 1   label   78588 non-null  int64 \n",
            "dtypes: int64(1), object(1)\n",
            "memory usage: 1.8+ MB\n"
          ]
        }
      ],
      "source": [
        "df.dropna().info()"
      ]
    },
    {
      "cell_type": "code",
      "execution_count": 52,
      "metadata": {
        "colab": {
          "base_uri": "https://localhost:8080/"
        },
        "id": "Tr6HITHson6S",
        "outputId": "c5c2c6a2-4a18-4233-83a4-fa4536050936"
      },
      "outputs": [
        {
          "ename": "UnicodeDecodeError",
          "evalue": "'utf-8' codec can't decode byte 0xc2 in position 0: unexpected end of data",
          "output_type": "error",
          "traceback": [
            "\u001b[1;31m---------------------------------------------------------------------------\u001b[0m",
            "\u001b[1;31mUnicodeDecodeError\u001b[0m                        Traceback (most recent call last)",
            "\u001b[1;32mc:\\Users\\jens.baetens3\\OneDrive - ODISEE\\2223\\MachineLearning\\Leerstof\\Week 9\\RecurrenteNeuraleNetwerken.ipynb Cell 28\u001b[0m in \u001b[0;36m<cell line: 12>\u001b[1;34m()\u001b[0m\n\u001b[0;32m      <a href='vscode-notebook-cell:/c%3A/Users/jens.baetens3/OneDrive%20-%20ODISEE/2223/MachineLearning/Leerstof/Week%209/RecurrenteNeuraleNetwerken.ipynb#X36sZmlsZQ%3D%3D?line=3'>4</a>\u001b[0m vectorize_layer \u001b[39m=\u001b[39m tf\u001b[39m.\u001b[39mkeras\u001b[39m.\u001b[39mlayers\u001b[39m.\u001b[39mTextVectorization(\n\u001b[0;32m      <a href='vscode-notebook-cell:/c%3A/Users/jens.baetens3/OneDrive%20-%20ODISEE/2223/MachineLearning/Leerstof/Week%209/RecurrenteNeuraleNetwerken.ipynb#X36sZmlsZQ%3D%3D?line=4'>5</a>\u001b[0m     max_tokens \u001b[39m=\u001b[39m max_features,\n\u001b[0;32m      <a href='vscode-notebook-cell:/c%3A/Users/jens.baetens3/OneDrive%20-%20ODISEE/2223/MachineLearning/Leerstof/Week%209/RecurrenteNeuraleNetwerken.ipynb#X36sZmlsZQ%3D%3D?line=5'>6</a>\u001b[0m     output_mode\u001b[39m=\u001b[39m\u001b[39m\"\u001b[39m\u001b[39mint\u001b[39m\u001b[39m\"\u001b[39m,\n\u001b[0;32m      <a href='vscode-notebook-cell:/c%3A/Users/jens.baetens3/OneDrive%20-%20ODISEE/2223/MachineLearning/Leerstof/Week%209/RecurrenteNeuraleNetwerken.ipynb#X36sZmlsZQ%3D%3D?line=6'>7</a>\u001b[0m     output_sequence_length\u001b[39m=\u001b[39m\u001b[39mint\u001b[39m(max_text_length)\n\u001b[0;32m      <a href='vscode-notebook-cell:/c%3A/Users/jens.baetens3/OneDrive%20-%20ODISEE/2223/MachineLearning/Leerstof/Week%209/RecurrenteNeuraleNetwerken.ipynb#X36sZmlsZQ%3D%3D?line=7'>8</a>\u001b[0m )\n\u001b[0;32m     <a href='vscode-notebook-cell:/c%3A/Users/jens.baetens3/OneDrive%20-%20ODISEE/2223/MachineLearning/Leerstof/Week%209/RecurrenteNeuraleNetwerken.ipynb#X36sZmlsZQ%3D%3D?line=9'>10</a>\u001b[0m vectorize_layer\u001b[39m.\u001b[39madapt(X_train)  \u001b[39m# stel woordenboek op\u001b[39;00m\n\u001b[1;32m---> <a href='vscode-notebook-cell:/c%3A/Users/jens.baetens3/OneDrive%20-%20ODISEE/2223/MachineLearning/Leerstof/Week%209/RecurrenteNeuraleNetwerken.ipynb#X36sZmlsZQ%3D%3D?line=11'>12</a>\u001b[0m voc \u001b[39m=\u001b[39m vectorize_layer\u001b[39m.\u001b[39;49mget_vocabulary()\n\u001b[0;32m     <a href='vscode-notebook-cell:/c%3A/Users/jens.baetens3/OneDrive%20-%20ODISEE/2223/MachineLearning/Leerstof/Week%209/RecurrenteNeuraleNetwerken.ipynb#X36sZmlsZQ%3D%3D?line=12'>13</a>\u001b[0m word_index \u001b[39m=\u001b[39m \u001b[39mdict\u001b[39m(\u001b[39mzip\u001b[39m(voc, \u001b[39mrange\u001b[39m(\u001b[39mlen\u001b[39m(voc))))\n\u001b[0;32m     <a href='vscode-notebook-cell:/c%3A/Users/jens.baetens3/OneDrive%20-%20ODISEE/2223/MachineLearning/Leerstof/Week%209/RecurrenteNeuraleNetwerken.ipynb#X36sZmlsZQ%3D%3D?line=14'>15</a>\u001b[0m num_tokens \u001b[39m=\u001b[39m \u001b[39mlen\u001b[39m(voc) \u001b[39m+\u001b[39m \u001b[39m2\u001b[39m\n",
            "File \u001b[1;32mc:\\Users\\jens.baetens3\\AppData\\Local\\Programs\\Python\\Python310\\lib\\site-packages\\keras\\layers\\preprocessing\\text_vectorization.py:487\u001b[0m, in \u001b[0;36mTextVectorization.get_vocabulary\u001b[1;34m(self, include_special_tokens)\u001b[0m\n\u001b[0;32m    478\u001b[0m \u001b[39mdef\u001b[39;00m \u001b[39mget_vocabulary\u001b[39m(\u001b[39mself\u001b[39m, include_special_tokens\u001b[39m=\u001b[39m\u001b[39mTrue\u001b[39;00m):\n\u001b[0;32m    479\u001b[0m     \u001b[39m\"\"\"Returns the current vocabulary of the layer.\u001b[39;00m\n\u001b[0;32m    480\u001b[0m \n\u001b[0;32m    481\u001b[0m \u001b[39m    Args:\u001b[39;00m\n\u001b[1;32m   (...)\u001b[0m\n\u001b[0;32m    485\u001b[0m \u001b[39m        returned vocabulary will not include any padding or OOV tokens.\u001b[39;00m\n\u001b[0;32m    486\u001b[0m \u001b[39m    \"\"\"\u001b[39;00m\n\u001b[1;32m--> 487\u001b[0m     \u001b[39mreturn\u001b[39;00m \u001b[39mself\u001b[39;49m\u001b[39m.\u001b[39;49m_lookup_layer\u001b[39m.\u001b[39;49mget_vocabulary(include_special_tokens)\n",
            "File \u001b[1;32mc:\\Users\\jens.baetens3\\AppData\\Local\\Programs\\Python\\Python310\\lib\\site-packages\\keras\\layers\\preprocessing\\index_lookup.py:385\u001b[0m, in \u001b[0;36mIndexLookup.get_vocabulary\u001b[1;34m(self, include_special_tokens)\u001b[0m\n\u001b[0;32m    382\u001b[0m     keys, values \u001b[39m=\u001b[39m \u001b[39mself\u001b[39m\u001b[39m.\u001b[39mlookup_table\u001b[39m.\u001b[39mexport()\n\u001b[0;32m    383\u001b[0m     vocab, indices \u001b[39m=\u001b[39m (values, keys) \u001b[39mif\u001b[39;00m \u001b[39mself\u001b[39m\u001b[39m.\u001b[39minvert \u001b[39melse\u001b[39;00m (keys, values)\n\u001b[0;32m    384\u001b[0m     vocab, indices \u001b[39m=\u001b[39m (\n\u001b[1;32m--> 385\u001b[0m         \u001b[39mself\u001b[39;49m\u001b[39m.\u001b[39;49m_tensor_vocab_to_numpy(vocab),\n\u001b[0;32m    386\u001b[0m         indices\u001b[39m.\u001b[39mnumpy(),\n\u001b[0;32m    387\u001b[0m     )\n\u001b[0;32m    388\u001b[0m lookup \u001b[39m=\u001b[39m collections\u001b[39m.\u001b[39mdefaultdict(\n\u001b[0;32m    389\u001b[0m     \u001b[39mlambda\u001b[39;00m: \u001b[39mself\u001b[39m\u001b[39m.\u001b[39moov_token, \u001b[39mzip\u001b[39m(indices, vocab)\n\u001b[0;32m    390\u001b[0m )\n\u001b[0;32m    391\u001b[0m vocab \u001b[39m=\u001b[39m [lookup[x] \u001b[39mfor\u001b[39;00m x \u001b[39min\u001b[39;00m \u001b[39mrange\u001b[39m(\u001b[39mself\u001b[39m\u001b[39m.\u001b[39mvocabulary_size())]\n",
            "File \u001b[1;32mc:\\Users\\jens.baetens3\\AppData\\Local\\Programs\\Python\\Python310\\lib\\site-packages\\keras\\layers\\preprocessing\\string_lookup.py:416\u001b[0m, in \u001b[0;36mStringLookup._tensor_vocab_to_numpy\u001b[1;34m(self, vocabulary)\u001b[0m\n\u001b[0;32m    413\u001b[0m \u001b[39mdef\u001b[39;00m \u001b[39m_tensor_vocab_to_numpy\u001b[39m(\u001b[39mself\u001b[39m, vocabulary):\n\u001b[0;32m    414\u001b[0m     vocabulary \u001b[39m=\u001b[39m vocabulary\u001b[39m.\u001b[39mnumpy()\n\u001b[0;32m    415\u001b[0m     \u001b[39mreturn\u001b[39;00m np\u001b[39m.\u001b[39marray(\n\u001b[1;32m--> 416\u001b[0m         [tf\u001b[39m.\u001b[39mcompat\u001b[39m.\u001b[39mas_text(x, \u001b[39mself\u001b[39m\u001b[39m.\u001b[39mencoding) \u001b[39mfor\u001b[39;00m x \u001b[39min\u001b[39;00m vocabulary]\n\u001b[0;32m    417\u001b[0m     )\n",
            "File \u001b[1;32mc:\\Users\\jens.baetens3\\AppData\\Local\\Programs\\Python\\Python310\\lib\\site-packages\\keras\\layers\\preprocessing\\string_lookup.py:416\u001b[0m, in \u001b[0;36m<listcomp>\u001b[1;34m(.0)\u001b[0m\n\u001b[0;32m    413\u001b[0m \u001b[39mdef\u001b[39;00m \u001b[39m_tensor_vocab_to_numpy\u001b[39m(\u001b[39mself\u001b[39m, vocabulary):\n\u001b[0;32m    414\u001b[0m     vocabulary \u001b[39m=\u001b[39m vocabulary\u001b[39m.\u001b[39mnumpy()\n\u001b[0;32m    415\u001b[0m     \u001b[39mreturn\u001b[39;00m np\u001b[39m.\u001b[39marray(\n\u001b[1;32m--> 416\u001b[0m         [tf\u001b[39m.\u001b[39;49mcompat\u001b[39m.\u001b[39;49mas_text(x, \u001b[39mself\u001b[39;49m\u001b[39m.\u001b[39;49mencoding) \u001b[39mfor\u001b[39;00m x \u001b[39min\u001b[39;00m vocabulary]\n\u001b[0;32m    417\u001b[0m     )\n",
            "File \u001b[1;32mc:\\Users\\jens.baetens3\\AppData\\Local\\Programs\\Python\\Python310\\lib\\site-packages\\tensorflow\\python\\util\\compat.py:110\u001b[0m, in \u001b[0;36mas_text\u001b[1;34m(bytes_or_text, encoding)\u001b[0m\n\u001b[0;32m    108\u001b[0m   \u001b[39mreturn\u001b[39;00m bytes_or_text\n\u001b[0;32m    109\u001b[0m \u001b[39melif\u001b[39;00m \u001b[39misinstance\u001b[39m(bytes_or_text, \u001b[39mbytes\u001b[39m):\n\u001b[1;32m--> 110\u001b[0m   \u001b[39mreturn\u001b[39;00m bytes_or_text\u001b[39m.\u001b[39;49mdecode(encoding)\n\u001b[0;32m    111\u001b[0m \u001b[39melse\u001b[39;00m:\n\u001b[0;32m    112\u001b[0m   \u001b[39mraise\u001b[39;00m \u001b[39mTypeError\u001b[39;00m(\u001b[39m'\u001b[39m\u001b[39mExpected binary or unicode string, got \u001b[39m\u001b[39m%r\u001b[39;00m\u001b[39m'\u001b[39m \u001b[39m%\u001b[39m bytes_or_text)\n",
            "\u001b[1;31mUnicodeDecodeError\u001b[0m: 'utf-8' codec can't decode byte 0xc2 in position 0: unexpected end of data"
          ]
        }
      ],
      "source": [
        "max_features = 10000\n",
        "\n",
        "# tokenization\n",
        "vectorize_layer = tf.keras.layers.TextVectorization(\n",
        "    max_tokens = max_features,\n",
        "    output_mode=\"int\",\n",
        "    output_sequence_length=int(max_text_length)\n",
        ")\n",
        "\n",
        "vectorize_layer.adapt(X_train)  # stel woordenboek op\n",
        "\n",
        "voc = vectorize_layer.get_vocabulary()\n",
        "word_index = dict(zip(voc, range(len(voc))))\n",
        "\n",
        "num_tokens = len(voc) + 2\n",
        "embedding_dim = 50\n",
        "hits = 0\n",
        "misses = 0\n",
        "\n",
        "# embedding layer\n",
        "\n",
        "# Prepare embedding matrix\n",
        "embedding_matrix = np.zeros((num_tokens, embedding_dim))\n",
        "for word, i in word_index.items():\n",
        "    embedding_vector = embeddings_index.get(word)\n",
        "    if embedding_vector is not None:\n",
        "        # Words not found in embedding index will be all-zeros.\n",
        "        # This includes the representation for \"padding\" and \"OOV\"\n",
        "        embedding_matrix[i] = embedding_vector\n",
        "        hits += 1\n",
        "    else:\n",
        "        misses += 1\n",
        "print(\"Converted %d words (%d misses)\" % (hits, misses))\n",
        "\n",
        "embedding_layer = tf.keras.layers.Embedding(\n",
        "    num_tokens,\n",
        "    embedding_dim,          # dimensies van de gekozen pretrained embedding\n",
        "    embeddings_initializer= tf.keras.initializers.Constant(embedding_matrix),\n",
        "    trainable=False\n",
        ")"
      ]
    },
    {
      "cell_type": "code",
      "execution_count": 46,
      "metadata": {
        "colab": {
          "base_uri": "https://localhost:8080/",
          "height": 246
        },
        "id": "QotQ_pA_on6S",
        "outputId": "0e9ac432-1386-4301-9c64-49446a25074c"
      },
      "outputs": [
        {
          "name": "stdout",
          "output_type": "stream",
          "text": [
            "Model: \"sequential_18\"\n",
            "_________________________________________________________________\n",
            " Layer (type)                Output Shape              Param #   \n",
            "=================================================================\n",
            " text_vectorization_18 (Text  (None, 142961)           0         \n",
            " Vectorization)                                                  \n",
            "                                                                 \n",
            " embedding_7 (Embedding)     multiple                  1100      \n",
            "                                                                 \n",
            " simple_rnn (SimpleRNN)      (None, 100)               15100     \n",
            "                                                                 \n",
            " dense_3 (Dense)             (None, 1)                 101       \n",
            "                                                                 \n",
            "=================================================================\n",
            "Total params: 16,301\n",
            "Trainable params: 15,201\n",
            "Non-trainable params: 1,100\n",
            "_________________________________________________________________\n"
          ]
        }
      ],
      "source": [
        "model = tf.keras.models.Sequential()\n",
        "model.add(tf.keras.Input(shape=(1,), dtype=tf.string))\n",
        "model.add(vectorize_layer)\n",
        "model.add(embedding_layer)\n",
        "model.add(tf.keras.layers.SimpleRNN(units=100))\n",
        "model.add(tf.keras.layers.Dense(1, activation=\"sigmoid\"))\n",
        "\n",
        "model.summary()"
      ]
    },
    {
      "cell_type": "code",
      "execution_count": null,
      "metadata": {
        "colab": {
          "base_uri": "https://localhost:8080/"
        },
        "id": "LS-1XJ250POL",
        "outputId": "0deb7ce6-b88e-4855-94a5-b8bca547256a"
      },
      "outputs": [],
      "source": [
        "model.compile(optimizer=\"adam\", loss=\"binary_crossentropy\", metrics=[\"accuracy\"])\n",
        "model.fit(X_train, y_train, epochs=3, batch_size=32)\n",
        "model.evaluate(X_test, y_test, verbose=0)"
      ]
    },
    {
      "cell_type": "code",
      "execution_count": null,
      "metadata": {
        "colab": {
          "base_uri": "https://localhost:8080/"
        },
        "id": "ve0LaVco1C-L",
        "outputId": "79373adf-cdc3-4c08-eca3-de62b4a8f7e7"
      },
      "outputs": [],
      "source": [
        "# met LSTM en dropout\n",
        "\n",
        "model = tf.keras.models.Sequential([\n",
        "    tf.keras.Input(shape=(1,), dtype=tf.string),\n",
        "    vectorize_layer,\n",
        "    embedding_layer,\n",
        "    tf.keras.layers.LSTM(units=100, dropout=0.2, recurrent_dropout=0.2),\n",
        "    tf.keras.layers.Dense(1, activation='sigmoid')\n",
        "])\n",
        "\n",
        "print(model.summary())\n",
        "model.compile(loss='binary_crossentropy', optimizer='adam', metrics=['accuracy'])        \n",
        "model.fit(X_train, y_train, epochs=3, batch_size=64)\n",
        "scores = model.evaluate(X_test, y_test, verbose=0)\n",
        "print(scores)\n",
        "\n",
        "# waarschijnlijk niet beter dan RNN omdat het te korte sequenties zijn"
      ]
    },
    {
      "cell_type": "code",
      "execution_count": null,
      "metadata": {
        "colab": {
          "base_uri": "https://localhost:8080/"
        },
        "id": "awFcalqK1t8j",
        "outputId": "8092d5e2-3913-41de-89ad-5449c21dba12"
      },
      "outputs": [],
      "source": [
        "# met GRU en dropout\n",
        "\n",
        "model = tf.keras.models.Sequential([\n",
        "    tf.keras.Input(shape=(1,), dtype=tf.string),\n",
        "    vectorize_layer,\n",
        "    embedding_layer,\n",
        "    tf.keras.layers.GRU(units=100, dropout=0.2, recurrent_dropout=0.2),\n",
        "    tf.keras.layers.Dense(1, activation='sigmoid')\n",
        "])\n",
        "\n",
        "print(model.summary())\n",
        "model.compile(loss='binary_crossentropy', optimizer='adam', metrics=['accuracy'])        \n",
        "model.fit(X_train, y_train, epochs=3, batch_size=64)\n",
        "scores = model.evaluate(X_test, y_test, verbose=0)\n",
        "print(scores)"
      ]
    },
    {
      "cell_type": "markdown",
      "metadata": {
        "id": "kW8o_cHZWqCl"
      },
      "source": [
        "## Many-to-many\n",
        "\n",
        "\n",
        "\n",
        "Dit soort architecturen heeft een sequentie van woorden als input en ook een sequentie als output.\n",
        "Een typisch voorbeeld hiervan is het maken van een model dat tekst genereert op basis van een begintekst.\n",
        "\n",
        "De code voor het voorbeeld bestaat uit de volgende stappen:\n",
        "* Maken van sequenties van woorden en volgende woorden\n",
        "* De woorden in deze sequenties omzetten naar embeddings\n",
        "* Opbouwen van een model\n",
        "* Trainen van het model\n",
        "* Experimenteren met het model.\n",
        "\n",
        "**1. Maken van de sequenties**\n",
        "\n",
        "In de eerste stap gaan we tekst inladen en de zinnen omzetten naar sequenties en de woorden die erachter komen.\n",
        "De data die we hiervoor gaan gebruiken zijn de artikels uit de vorige dataset met artikels.\n",
        "Dit kan je doen door middel van de volgende code:\n"
      ]
    },
    {
      "cell_type": "code",
      "execution_count": 67,
      "metadata": {
        "colab": {
          "base_uri": "https://localhost:8080/"
        },
        "id": "E2o7DkCZnr48",
        "outputId": "658437a2-d9f5-446d-cdbf-b1c18e2cf604"
      },
      "outputs": [
        {
          "name": "stdout",
          "output_type": "stream",
          "text": [
            "number of sequences 85357\n",
            "number of words 85357\n"
          ]
        }
      ],
      "source": [
        "# in dit deel gaan we proberen het volgende woord in een zin te voorspellen\n",
        "# daarvoor gaan we sequenties maken van 30 woorden en in de Y-waarde het volgende woord (embedded - int)\n",
        "\n",
        "import numpy as np\n",
        "import tensorflow as tf\n",
        "\n",
        "sequenties = []\n",
        "next_words = []\n",
        "sequence_length=30\n",
        "sequence_step=1\n",
        "max_features = 4000\n",
        "\n",
        "vectorize_layer = tf.keras.layers.TextVectorization(\n",
        "    max_tokens=max_features,\n",
        "    output_mode='int')\n",
        "vectorize_layer.adapt(X_train)\n",
        "\n",
        "def extract_input_data(row):\n",
        "  article = row.text\n",
        "  tokens = vectorize_layer(article)\n",
        "  for i in range(0, len(tokens)-sequence_length, sequence_step):\n",
        "    sequenties.append(tokens[i: i+sequence_length])\n",
        "    next_words.append(tokens[i+sequence_length])\n",
        "\n",
        "df.sample(n=200).apply(extract_input_data, axis=1)\n",
        "\n",
        "print(\"number of sequences\", len(sequenties))\n",
        "print(\"number of words\", len(next_words))"
      ]
    },
    {
      "cell_type": "code",
      "execution_count": 68,
      "metadata": {
        "colab": {
          "base_uri": "https://localhost:8080/"
        },
        "id": "eyTPdeuK0o-I",
        "outputId": "84d344f6-9061-4b92-f6b2-bb27b94c990b"
      },
      "outputs": [
        {
          "data": {
            "text/plain": [
              "<tf.Tensor: shape=(30,), dtype=int64, numpy=\n",
              "array([   6,    1,  135,  529,  243,  470,    1,    2,  534,  207, 2523,\n",
              "         85,  605,  161,  173,    1,   51,    1,   70,   69,  437,   27,\n",
              "          6,  135,   14,   65,    1,   43, 1207,   10], dtype=int64)>"
            ]
          },
          "execution_count": 68,
          "metadata": {},
          "output_type": "execute_result"
        }
      ],
      "source": [
        "sequenties[0]"
      ]
    },
    {
      "cell_type": "markdown",
      "metadata": {
        "id": "0HJBYQiA3c7H"
      },
      "source": [
        "**2. Woorden omzetten naar embeddings**"
      ]
    },
    {
      "cell_type": "code",
      "execution_count": 69,
      "metadata": {
        "colab": {
          "base_uri": "https://localhost:8080/"
        },
        "id": "LIuZx09kyC_O",
        "outputId": "776ead11-ba09-4fdb-8f87-4d5a42a173d1"
      },
      "outputs": [
        {
          "name": "stdout",
          "output_type": "stream",
          "text": [
            "Converted 3901 words (99 misses)\n"
          ]
        }
      ],
      "source": [
        "# embedding\n",
        "voc = vectorize_layer.get_vocabulary()\n",
        "word_index = dict(zip(voc, range(len(voc))))\n",
        "\n",
        "num_tokens = len(voc) + 2\n",
        "embedding_dim = 50\n",
        "hits = 0\n",
        "misses = 0\n",
        "\n",
        "# Prepare embedding matrix\n",
        "embedding_matrix = np.zeros((num_tokens, embedding_dim))\n",
        "for word, i in word_index.items():\n",
        "    embedding_vector = embeddings_index.get(word)\n",
        "    if embedding_vector is not None:\n",
        "        # Words not found in embedding index will be all-zeros.\n",
        "        # This includes the representation for \"padding\" and \"OOV\"\n",
        "        embedding_matrix[i] = embedding_vector\n",
        "        hits += 1\n",
        "    else:\n",
        "        misses += 1\n",
        "print(\"Converted %d words (%d misses)\" % (hits, misses))\n",
        "\n",
        "embedding_layer = tf.keras.layers.Embedding(\n",
        "    num_tokens,\n",
        "    embedding_dim,\n",
        "    embeddings_initializer=tf.keras.initializers.Constant(embedding_matrix),\n",
        "    trainable=False,        # belangrijk -> niet opnieuw aanpassen want reeds getrained\n",
        ")"
      ]
    },
    {
      "cell_type": "code",
      "execution_count": 70,
      "metadata": {},
      "outputs": [
        {
          "name": "stderr",
          "output_type": "stream",
          "text": [
            "C:\\Users\\jens.baetens3\\AppData\\Local\\Temp\\ipykernel_12268\\527969825.py:1: DeprecationWarning: `np.float` is a deprecated alias for the builtin `float`. To silence this warning, use `float` by itself. Doing this will not modify any behavior and is safe. If you specifically wanted the numpy scalar type, use `np.float64` here.\n",
            "Deprecated in NumPy 1.20; for more details and guidance: https://numpy.org/devdocs/release/1.20.0-notes.html#deprecations\n",
            "  X = np.zeros((len(sequenties), sequence_length, embedding_dim), dtype=np.float)\n",
            "C:\\Users\\jens.baetens3\\AppData\\Local\\Temp\\ipykernel_12268\\527969825.py:2: DeprecationWarning: `np.int` is a deprecated alias for the builtin `int`. To silence this warning, use `int` by itself. Doing this will not modify any behavior and is safe. When replacing `np.int`, you may wish to use e.g. `np.int64` or `np.int32` to specify the precision. If you wish to review your current use, check the release note link for additional information.\n",
            "Deprecated in NumPy 1.20; for more details and guidance: https://numpy.org/devdocs/release/1.20.0-notes.html#deprecations\n",
            "  y = np.zeros((len(sequenties), 1), dtype=np.int)\n"
          ]
        },
        {
          "name": "stdout",
          "output_type": "stream",
          "text": [
            "0\n",
            "1000\n",
            "2000\n",
            "3000\n",
            "4000\n",
            "5000\n",
            "6000\n",
            "7000\n",
            "8000\n",
            "9000\n",
            "10000\n",
            "11000\n",
            "12000\n",
            "13000\n",
            "14000\n",
            "15000\n",
            "16000\n",
            "17000\n",
            "18000\n",
            "19000\n",
            "20000\n",
            "21000\n",
            "22000\n",
            "23000\n",
            "24000\n",
            "25000\n",
            "26000\n",
            "27000\n",
            "28000\n",
            "29000\n",
            "30000\n",
            "31000\n",
            "32000\n",
            "33000\n",
            "34000\n",
            "35000\n",
            "36000\n",
            "37000\n",
            "38000\n",
            "39000\n",
            "40000\n",
            "41000\n",
            "42000\n",
            "43000\n",
            "44000\n",
            "45000\n"
          ]
        }
      ],
      "source": [
        "X = np.zeros((len(sequenties), sequence_length, embedding_dim), dtype=float)\n",
        "y = np.zeros((len(sequenties), 1), dtype=int)\n",
        "\n",
        "for i in range(0, len(sequenties)):\n",
        "  if i%1000 == 0:\n",
        "    print(i)\n",
        "  for j in range(sequence_length):\n",
        "    X[i,j] = embedding_layer(sequenties[i][j])\n",
        "  y[i] = next_words[i]"
      ]
    },
    {
      "cell_type": "markdown",
      "metadata": {
        "id": "JyEIIyZe3g23"
      },
      "source": [
        "**3. Opstellen van een model**\n",
        "\n",
        "Hierbij maken we gebruik van een nieuwe laag.\n",
        "Namelijk de [**Bidirectional**](https://www.tensorflow.org/api_docs/python/tf/keras/layers/Bidirectional/) laag.\n",
        "Deze laag maakt het mogelijk om de sequentie zowel voorwaarts als achterwaarts te bestuderen.\n",
        "Dit zorgt ervoor dat bepaalde tijdsreeksen zoals tekst veel beter geanalyseerd en gemodelleerd kunnnen worden door een RNN.\n",
        "Dit gebeurd in onderstaande code"
      ]
    },
    {
      "cell_type": "code",
      "execution_count": null,
      "metadata": {
        "colab": {
          "base_uri": "https://localhost:8080/"
        },
        "id": "suVK2x0-3lq_",
        "outputId": "bcf1eb55-70be-4795-a9b2-e1861a059965"
      },
      "outputs": [],
      "source": [
        "\n",
        "model = tf.keras.models.Sequential()\n",
        "model.add(tf.keras.layers.Bidirectional(tf.keras.layers.LSTM(100, activation=\"relu\"), input_shape=(sequence_length, embedding_dim)))    # bidirectioneel -> niet enkel verleden naar toekomst maar ook omgekeerde volgorde, de layer ertussen moet wel 1 zijn met geheugen/sequentie\n",
        "model.add(tf.keras.layers.Dense(1))\n",
        "\n",
        "model.compile(loss=\"mse\", optimizer=\"adam\")\n",
        "\n",
        "model.summary()"
      ]
    },
    {
      "cell_type": "code",
      "execution_count": null,
      "metadata": {
        "colab": {
          "base_uri": "https://localhost:8080/"
        },
        "id": "9_K43Jc9LFAx",
        "outputId": "dcba6ab0-b3c7-43b4-d6a8-25001f49aa23"
      },
      "outputs": [],
      "source": [
        "model(tf.expand_dims(X[0],0))"
      ]
    },
    {
      "cell_type": "markdown",
      "metadata": {
        "id": "gegvp8bc4m_p"
      },
      "source": [
        "**4. Trainen van een model**"
      ]
    },
    {
      "cell_type": "code",
      "execution_count": null,
      "metadata": {
        "colab": {
          "base_uri": "https://localhost:8080/"
        },
        "id": "3l6QInLL4m1f",
        "outputId": "bd408c24-89ed-44b6-aa4a-2fbee19beeb0"
      },
      "outputs": [],
      "source": [
        "model.fit(X,y, batch_size=64, shuffle=True, epochs=2, validation_split=0.1)\n",
        "\n",
        "model.save(\"text_generator.h5\")"
      ]
    },
    {
      "cell_type": "markdown",
      "metadata": {
        "id": "S2XfQ8aE4mjP"
      },
      "source": [
        "**5. Genereren van tekst**\n",
        "\n",
        "Wanneer we nu een beginsequentie aan het model geven, dan kan het volgende woord voorspeld worden.\n",
        "Dit woord kan dan toegevoegd worden aan de sequentie en het volgende woord kan voorspeld worden.\n",
        "Door dit te herhalen kan je een tekst van willekeurige lengte voorspellen.\n",
        "\n",
        "Een probleem hierbij is nog dat we embeddings voorspellen.\n",
        "Dit is een vector voorstelling van elk woord.\n",
        "Deze vectors moeten nog terug geconverteerd worden naar een woord.\n",
        "\n",
        "Deze conversies worden uitgevoerd door onderstaande code:"
      ]
    },
    {
      "cell_type": "code",
      "execution_count": null,
      "metadata": {
        "colab": {
          "base_uri": "https://localhost:8080/"
        },
        "id": "aARLbDPw9Iig",
        "outputId": "3c3bb034-27ea-42d0-88b7-bc059953993d"
      },
      "outputs": [],
      "source": [
        "test = \"eric\"\n",
        "test_index = vectorize_layer(test)\n",
        "test_embedding = embedding_layer(test_index)\n",
        "\n",
        "print(\"Origineel woord\", test)\n",
        "print(\"index van origineel\", test_index)\n",
        "print(\"Embedding van origineel\", test_embedding)\n",
        "print(\"Shape embedding\", test_embedding.shape)\n",
        "\n",
        "# de embedding layer berekent eigenlijk de vector zoals een neuraal netwerk.\n",
        "# we kunnen hiervan de omgeerde berekenen als volgt: (source: https://stackoverflow.com/questions/45773660/reverse-word-embeddings-in-keras-python)\n",
        "voc_values = tf.linalg.matmul(test_embedding,tf.linalg.pinv(embedding_layer.weights[0]))\n",
        "index = np.argmax(voc_values)\n",
        "test_reverted_word = vectorize_layer.get_vocabulary()[index]\n",
        "\n",
        "print(\"index reversed word\", index)\n",
        "print(\"reversed word\", test_reverted_word)"
      ]
    },
    {
      "cell_type": "code",
      "execution_count": null,
      "metadata": {
        "id": "faMH7lU32x38"
      },
      "outputs": [],
      "source": [
        "# dit is een functie die eigenlijk gebruikt kan worden om van een embedding terug te keren naar de integer van het woord en daarna naar het bijhorende woord.\n",
        "def reverse_embedding(word_embeddings):\n",
        "  voc_values = tf.linalg.matmul(word_embeddings,tf.linalg.pinv(embedding_layer.weights[0]))\n",
        "  # index is het index in de woordenboek\n",
        "  index = np.argmax(voc_values)\n",
        "  test_reverted_word = vectorize_layer.get_vocabulary()[index]\n",
        "\n",
        "  return test_reverted_word"
      ]
    },
    {
      "cell_type": "markdown",
      "metadata": {
        "id": "jBKenaJL9HhI"
      },
      "source": [
        "Met bovenstaande functie kunnen we dan embeddings gaan voorspellen en terug omzetten naar tekst.\n",
        "Dit gebeurd in onderstaande code."
      ]
    },
    {
      "cell_type": "code",
      "execution_count": null,
      "metadata": {
        "colab": {
          "base_uri": "https://localhost:8080/"
        },
        "id": "aY5uo81t4mQX",
        "outputId": "b9ae9594-3b4a-4d4f-a103-f627c9dbbc26"
      },
      "outputs": [],
      "source": [
        "num_words_to_generate = 30\n",
        "generated = ''\n",
        "sentence = []\n",
        "\n",
        "seed_sentence = \"The winner of the elections is going to be \"\n",
        "generated = seed_sentence\n",
        "# omdat text vectorization niet aanwezig is in het model\n",
        "seed = embedding_layer(vectorize_layer(seed_sentence))\n",
        "seed_X = np.zeros((1, sequence_length, embedding_dim))\n",
        "seed_X[0, -len(seed):] = seed\n",
        "\n",
        "# make prediction for each word\n",
        "for i in range(num_words_to_generate):\n",
        "  preds = model.predict(seed_X, verbose=0)\n",
        "  # print(preds)\n",
        "\n",
        "  # save predicted word\n",
        "  next_word = int(preds)\n",
        "  generated += ' ' + next_word\n",
        "  sentence.append(next_word)\n",
        "\n",
        "  # shift sequence\n",
        "  tmp = seed_X.copy()\n",
        "  seed_X[0,:-1] = seed_X[0, 1:]  \n",
        "  seed_X[0, -1] = embedding_layer(next_word)  \n",
        "  difference = ((tmp-seed_X) **2).sum()\n",
        "  print(difference)\n",
        "\n",
        "print(\"Result is:\")\n",
        "print(seed_sentence, ' '.join(sentence))"
      ]
    },
    {
      "cell_type": "markdown",
      "metadata": {
        "id": "YUU9rKpCM1YN"
      },
      "source": [
        "## One-to-many\n",
        "\n",
        "In dit soort van problemen beginnen we van 1 enkele input waarden die we een aantal keer hergebruiken om zo meerdere outputs te genereren.\n",
        "Dit kan je zien in onderstaande figuur.\n",
        "\n",
        "![one-to-many.png](data:image/png;base64,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)\n",
        "\n",
        "Als voorbeeld hiervan gaan we kijken of de volgende 5 getallen van een getal kunnen voorspeld worden aan de hand van recurrent neuraal netwerk.\n",
        "\n",
        "De eerste stap in dit voorbeeldje moeten we dan deze experimentele dataset aanmaken.\n",
        "Dit kan als volgt:"
      ]
    },
    {
      "cell_type": "code",
      "execution_count": 53,
      "metadata": {
        "colab": {
          "base_uri": "https://localhost:8080/"
        },
        "id": "2fnZ2aqoNWFP",
        "outputId": "364fa6e4-f040-44ed-f0a8-24a34286b1ae"
      },
      "outputs": [
        {
          "name": "stdout",
          "output_type": "stream",
          "text": [
            "(100, 5)\n",
            "[21. 67. 79. 56. 16. 23.  3. 94. 43.  5. 40.  8. 49. 46. 67. 12. 79. 91.\n",
            " 34. 78. 73. 20. 59. 83. 91. 37. 74. 59. 84. 86. 99. 23. 63. 57. 77. 69.\n",
            " 81. 67. 23. 48. 33. 96. 59. 18. 39. 49. 88. 26. 89. 92. 67. 64. 72. 66.\n",
            " 12. 25. 18. 36. 13. 82. 63. 68. 70. 49. 33.  8.  7. 21. 84. 47. 87.  0.\n",
            " 42. 25. 63. 79. 69. 80. 63. 11. 62. 55. 92. 62. 76. 42. 71. 53. 50. 59.\n",
            " 49.  4.  2. 89. 83. 44. 66. 45. 85. 74.]\n",
            "[[ 22.  23.  24.  25.  26.]\n",
            " [ 68.  69.  70.  71.  72.]\n",
            " [ 80.  81.  82.  83.  84.]\n",
            " [ 57.  58.  59.  60.  61.]\n",
            " [ 17.  18.  19.  20.  21.]\n",
            " [ 24.  25.  26.  27.  28.]\n",
            " [  4.   5.   6.   7.   8.]\n",
            " [ 95.  96.  97.  98.  99.]\n",
            " [ 44.  45.  46.  47.  48.]\n",
            " [  6.   7.   8.   9.  10.]\n",
            " [ 41.  42.  43.  44.  45.]\n",
            " [  9.  10.  11.  12.  13.]\n",
            " [ 50.  51.  52.  53.  54.]\n",
            " [ 47.  48.  49.  50.  51.]\n",
            " [ 68.  69.  70.  71.  72.]\n",
            " [ 13.  14.  15.  16.  17.]\n",
            " [ 80.  81.  82.  83.  84.]\n",
            " [ 92.  93.  94.  95.  96.]\n",
            " [ 35.  36.  37.  38.  39.]\n",
            " [ 79.  80.  81.  82.  83.]\n",
            " [ 74.  75.  76.  77.  78.]\n",
            " [ 21.  22.  23.  24.  25.]\n",
            " [ 60.  61.  62.  63.  64.]\n",
            " [ 84.  85.  86.  87.  88.]\n",
            " [ 92.  93.  94.  95.  96.]\n",
            " [ 38.  39.  40.  41.  42.]\n",
            " [ 75.  76.  77.  78.  79.]\n",
            " [ 60.  61.  62.  63.  64.]\n",
            " [ 85.  86.  87.  88.  89.]\n",
            " [ 87.  88.  89.  90.  91.]\n",
            " [100. 101. 102. 103. 104.]\n",
            " [ 24.  25.  26.  27.  28.]\n",
            " [ 64.  65.  66.  67.  68.]\n",
            " [ 58.  59.  60.  61.  62.]\n",
            " [ 78.  79.  80.  81.  82.]\n",
            " [ 70.  71.  72.  73.  74.]\n",
            " [ 82.  83.  84.  85.  86.]\n",
            " [ 68.  69.  70.  71.  72.]\n",
            " [ 24.  25.  26.  27.  28.]\n",
            " [ 49.  50.  51.  52.  53.]\n",
            " [ 34.  35.  36.  37.  38.]\n",
            " [ 97.  98.  99. 100. 101.]\n",
            " [ 60.  61.  62.  63.  64.]\n",
            " [ 19.  20.  21.  22.  23.]\n",
            " [ 40.  41.  42.  43.  44.]\n",
            " [ 50.  51.  52.  53.  54.]\n",
            " [ 89.  90.  91.  92.  93.]\n",
            " [ 27.  28.  29.  30.  31.]\n",
            " [ 90.  91.  92.  93.  94.]\n",
            " [ 93.  94.  95.  96.  97.]\n",
            " [ 68.  69.  70.  71.  72.]\n",
            " [ 65.  66.  67.  68.  69.]\n",
            " [ 73.  74.  75.  76.  77.]\n",
            " [ 67.  68.  69.  70.  71.]\n",
            " [ 13.  14.  15.  16.  17.]\n",
            " [ 26.  27.  28.  29.  30.]\n",
            " [ 19.  20.  21.  22.  23.]\n",
            " [ 37.  38.  39.  40.  41.]\n",
            " [ 14.  15.  16.  17.  18.]\n",
            " [ 83.  84.  85.  86.  87.]\n",
            " [ 64.  65.  66.  67.  68.]\n",
            " [ 69.  70.  71.  72.  73.]\n",
            " [ 71.  72.  73.  74.  75.]\n",
            " [ 50.  51.  52.  53.  54.]\n",
            " [ 34.  35.  36.  37.  38.]\n",
            " [  9.  10.  11.  12.  13.]\n",
            " [  8.   9.  10.  11.  12.]\n",
            " [ 22.  23.  24.  25.  26.]\n",
            " [ 85.  86.  87.  88.  89.]\n",
            " [ 48.  49.  50.  51.  52.]\n",
            " [ 88.  89.  90.  91.  92.]\n",
            " [  1.   2.   3.   4.   5.]\n",
            " [ 43.  44.  45.  46.  47.]\n",
            " [ 26.  27.  28.  29.  30.]\n",
            " [ 64.  65.  66.  67.  68.]\n",
            " [ 80.  81.  82.  83.  84.]\n",
            " [ 70.  71.  72.  73.  74.]\n",
            " [ 81.  82.  83.  84.  85.]\n",
            " [ 64.  65.  66.  67.  68.]\n",
            " [ 12.  13.  14.  15.  16.]\n",
            " [ 63.  64.  65.  66.  67.]\n",
            " [ 56.  57.  58.  59.  60.]\n",
            " [ 93.  94.  95.  96.  97.]\n",
            " [ 63.  64.  65.  66.  67.]\n",
            " [ 77.  78.  79.  80.  81.]\n",
            " [ 43.  44.  45.  46.  47.]\n",
            " [ 72.  73.  74.  75.  76.]\n",
            " [ 54.  55.  56.  57.  58.]\n",
            " [ 51.  52.  53.  54.  55.]\n",
            " [ 60.  61.  62.  63.  64.]\n",
            " [ 50.  51.  52.  53.  54.]\n",
            " [  5.   6.   7.   8.   9.]\n",
            " [  3.   4.   5.   6.   7.]\n",
            " [ 90.  91.  92.  93.  94.]\n",
            " [ 84.  85.  86.  87.  88.]\n",
            " [ 45.  46.  47.  48.  49.]\n",
            " [ 67.  68.  69.  70.  71.]\n",
            " [ 46.  47.  48.  49.  50.]\n",
            " [ 86.  87.  88.  89.  90.]\n",
            " [ 75.  76.  77.  78.  79.]]\n"
          ]
        }
      ],
      "source": [
        "import tensorflow as tf\n",
        "import numpy as np\n",
        "\n",
        "max_int = 100\n",
        "num_samples = 100\n",
        "output_length = 5\n",
        "\n",
        "X = np.random.randint(max_int, size=(num_samples))\n",
        "X = X.astype('float')\n",
        "Y = np.zeros((num_samples, output_length))\n",
        "\n",
        "print(Y.shape)\n",
        "\n",
        "for i in range(num_samples):\n",
        "  Y_element = np.zeros(output_length)\n",
        "  for j in range(output_length):\n",
        "    Y_element[j] = X[i]+j+1\n",
        "  Y[i] = Y_element\n",
        "\n",
        "print(X)\n",
        "print(Y)"
      ]
    },
    {
      "cell_type": "markdown",
      "metadata": {
        "id": "sF9_bjdTPH2k"
      },
      "source": [
        "Om deze dataset te gebruiken voor een recurrent neuraal netwerk met een one-to-many architectuur moet er laag gebruikt worden die de enkelvoudige input elke tijdsstap van de sequentie aanrijkt aan het neuraal netwerk.\n",
        "Hiervoor kan je de [RepeatVector layer](https://www.tensorflow.org/api_docs/python/tf/keras/layers/RepeatVector) gebruiken van tensorflow.\n",
        "\n",
        "Om de output te berekenen kan je werken op de volledige sequence en voor elke waarde in de sequence iets voorspellen. Het nadeel is hiervoor dat je meer gewichten en neuronen nodig hebt.\n",
        "Het is ook mogelijk om dezelfde laag uit te voeren op elk entry van de sequence.\n",
        "Hiervoor heb je de [TimeDistributed layer](https://www.tensorflow.org/api_docs/python/tf/keras/layers/TimeDistributed) nodig om dit uit te voeren.\n",
        "\n",
        "Een one-to-many model kan bijvoorbeeld als volgt opgebouwd worden."
      ]
    },
    {
      "cell_type": "code",
      "execution_count": 66,
      "metadata": {
        "colab": {
          "base_uri": "https://localhost:8080/"
        },
        "id": "roDmndqgQN_P",
        "outputId": "076f0aa1-8bf3-4737-efac-3e24cc4e4110"
      },
      "outputs": [
        {
          "name": "stdout",
          "output_type": "stream",
          "text": [
            "Epoch 1/100\n",
            "8/8 [==============================] - 1s 56ms/step - loss: 3568.7974 - val_loss: 3224.7827\n",
            "Epoch 2/100\n",
            "8/8 [==============================] - 0s 27ms/step - loss: 2254.3162 - val_loss: 1978.5000\n",
            "Epoch 3/100\n",
            "8/8 [==============================] - 0s 27ms/step - loss: 1615.9186 - val_loss: 1579.0347\n",
            "Epoch 4/100\n",
            "8/8 [==============================] - 0s 26ms/step - loss: 1311.1547 - val_loss: 1237.1747\n",
            "Epoch 5/100\n",
            "8/8 [==============================] - 0s 26ms/step - loss: 930.7518 - val_loss: 794.8100\n",
            "Epoch 6/100\n",
            "8/8 [==============================] - 0s 25ms/step - loss: 587.0837 - val_loss: 511.2780\n",
            "Epoch 7/100\n",
            "8/8 [==============================] - 0s 27ms/step - loss: 385.5200 - val_loss: 330.9010\n",
            "Epoch 8/100\n",
            "8/8 [==============================] - 0s 26ms/step - loss: 248.4911 - val_loss: 185.9567\n",
            "Epoch 9/100\n",
            "8/8 [==============================] - 0s 26ms/step - loss: 113.9540 - val_loss: 44.1825\n",
            "Epoch 10/100\n",
            "8/8 [==============================] - 0s 27ms/step - loss: 18.8663 - val_loss: 5.8166\n",
            "Epoch 11/100\n",
            "8/8 [==============================] - 0s 26ms/step - loss: 15.2846 - val_loss: 15.5510\n",
            "Epoch 12/100\n",
            "8/8 [==============================] - 0s 27ms/step - loss: 10.9584 - val_loss: 2.2369\n",
            "Epoch 13/100\n",
            "8/8 [==============================] - 0s 29ms/step - loss: 5.0795 - val_loss: 3.2673\n",
            "Epoch 14/100\n",
            "8/8 [==============================] - 0s 29ms/step - loss: 5.5452 - val_loss: 2.3862\n",
            "Epoch 15/100\n",
            "8/8 [==============================] - 0s 27ms/step - loss: 4.1940 - val_loss: 1.3713\n",
            "Epoch 16/100\n",
            "8/8 [==============================] - 0s 27ms/step - loss: 3.7053 - val_loss: 1.3915\n",
            "Epoch 17/100\n",
            "8/8 [==============================] - 0s 29ms/step - loss: 3.4025 - val_loss: 0.9914\n",
            "Epoch 18/100\n",
            "8/8 [==============================] - 0s 25ms/step - loss: 2.9383 - val_loss: 0.8340\n",
            "Epoch 19/100\n",
            "8/8 [==============================] - 0s 26ms/step - loss: 2.6276 - val_loss: 0.6834\n",
            "Epoch 20/100\n",
            "8/8 [==============================] - 0s 26ms/step - loss: 2.3076 - val_loss: 0.6075\n",
            "Epoch 21/100\n",
            "8/8 [==============================] - 0s 26ms/step - loss: 2.0568 - val_loss: 0.5005\n",
            "Epoch 22/100\n",
            "8/8 [==============================] - 0s 27ms/step - loss: 1.7982 - val_loss: 0.4125\n",
            "Epoch 23/100\n",
            "8/8 [==============================] - 0s 26ms/step - loss: 1.5723 - val_loss: 0.3821\n",
            "Epoch 24/100\n",
            "8/8 [==============================] - 0s 26ms/step - loss: 1.3542 - val_loss: 0.3393\n",
            "Epoch 25/100\n",
            "8/8 [==============================] - 0s 28ms/step - loss: 1.1876 - val_loss: 0.3175\n",
            "Epoch 26/100\n",
            "8/8 [==============================] - 0s 27ms/step - loss: 1.0332 - val_loss: 0.3382\n",
            "Epoch 27/100\n",
            "8/8 [==============================] - 0s 26ms/step - loss: 0.9100 - val_loss: 0.3307\n",
            "Epoch 28/100\n",
            "8/8 [==============================] - 0s 26ms/step - loss: 0.8005 - val_loss: 0.2949\n",
            "Epoch 29/100\n",
            "8/8 [==============================] - 0s 26ms/step - loss: 0.7091 - val_loss: 0.3139\n",
            "Epoch 30/100\n",
            "8/8 [==============================] - 0s 28ms/step - loss: 0.6319 - val_loss: 0.2995\n",
            "Epoch 31/100\n",
            "8/8 [==============================] - 0s 29ms/step - loss: 0.5446 - val_loss: 0.2539\n",
            "Epoch 32/100\n",
            "8/8 [==============================] - 0s 29ms/step - loss: 0.4899 - val_loss: 0.2469\n",
            "Epoch 33/100\n",
            "8/8 [==============================] - 0s 26ms/step - loss: 0.4353 - val_loss: 0.2472\n",
            "Epoch 34/100\n",
            "8/8 [==============================] - 0s 26ms/step - loss: 0.3912 - val_loss: 0.2115\n",
            "Epoch 35/100\n",
            "8/8 [==============================] - 0s 26ms/step - loss: 0.3458 - val_loss: 0.1910\n",
            "Epoch 36/100\n",
            "8/8 [==============================] - 0s 29ms/step - loss: 0.3080 - val_loss: 0.1848\n",
            "Epoch 37/100\n",
            "8/8 [==============================] - 0s 26ms/step - loss: 0.2772 - val_loss: 0.1680\n",
            "Epoch 38/100\n",
            "8/8 [==============================] - 0s 26ms/step - loss: 0.2470 - val_loss: 0.1521\n",
            "Epoch 39/100\n",
            "8/8 [==============================] - 0s 28ms/step - loss: 0.2232 - val_loss: 0.1463\n",
            "Epoch 40/100\n",
            "8/8 [==============================] - 0s 28ms/step - loss: 0.2014 - val_loss: 0.1351\n",
            "Epoch 41/100\n",
            "8/8 [==============================] - 0s 25ms/step - loss: 0.1827 - val_loss: 0.1264\n",
            "Epoch 42/100\n",
            "8/8 [==============================] - 0s 26ms/step - loss: 0.1686 - val_loss: 0.1194\n",
            "Epoch 43/100\n",
            "8/8 [==============================] - 0s 25ms/step - loss: 0.1544 - val_loss: 0.1129\n",
            "Epoch 44/100\n",
            "8/8 [==============================] - 0s 25ms/step - loss: 0.1433 - val_loss: 0.1083\n",
            "Epoch 45/100\n",
            "8/8 [==============================] - 0s 27ms/step - loss: 0.1323 - val_loss: 0.1026\n",
            "Epoch 46/100\n",
            "8/8 [==============================] - 0s 28ms/step - loss: 0.1244 - val_loss: 0.0981\n",
            "Epoch 47/100\n",
            "8/8 [==============================] - 0s 26ms/step - loss: 0.1161 - val_loss: 0.0971\n",
            "Epoch 48/100\n",
            "8/8 [==============================] - 0s 27ms/step - loss: 0.1071 - val_loss: 0.0964\n",
            "Epoch 49/100\n",
            "8/8 [==============================] - 0s 27ms/step - loss: 0.0996 - val_loss: 0.0872\n",
            "Epoch 50/100\n",
            "8/8 [==============================] - 0s 25ms/step - loss: 0.0919 - val_loss: 0.0837\n",
            "Epoch 51/100\n",
            "8/8 [==============================] - 0s 27ms/step - loss: 0.0862 - val_loss: 0.0800\n",
            "Epoch 52/100\n",
            "8/8 [==============================] - 0s 26ms/step - loss: 0.0804 - val_loss: 0.0782\n",
            "Epoch 53/100\n",
            "8/8 [==============================] - 0s 27ms/step - loss: 0.0759 - val_loss: 0.0739\n",
            "Epoch 54/100\n",
            "8/8 [==============================] - 0s 27ms/step - loss: 0.0699 - val_loss: 0.0719\n",
            "Epoch 55/100\n",
            "8/8 [==============================] - 0s 28ms/step - loss: 0.0663 - val_loss: 0.0697\n",
            "Epoch 56/100\n",
            "8/8 [==============================] - 0s 27ms/step - loss: 0.0620 - val_loss: 0.0680\n",
            "Epoch 57/100\n",
            "8/8 [==============================] - 0s 25ms/step - loss: 0.0596 - val_loss: 0.0654\n",
            "Epoch 58/100\n",
            "8/8 [==============================] - 0s 26ms/step - loss: 0.0572 - val_loss: 0.0631\n",
            "Epoch 59/100\n",
            "8/8 [==============================] - 0s 27ms/step - loss: 0.0539 - val_loss: 0.0611\n",
            "Epoch 60/100\n",
            "8/8 [==============================] - 0s 26ms/step - loss: 0.0501 - val_loss: 0.0603\n",
            "Epoch 61/100\n",
            "8/8 [==============================] - 0s 25ms/step - loss: 0.0467 - val_loss: 0.0586\n",
            "Epoch 62/100\n",
            "8/8 [==============================] - 0s 25ms/step - loss: 0.0445 - val_loss: 0.0584\n",
            "Epoch 63/100\n",
            "8/8 [==============================] - 0s 26ms/step - loss: 0.0434 - val_loss: 0.0538\n",
            "Epoch 64/100\n",
            "8/8 [==============================] - 0s 26ms/step - loss: 0.0397 - val_loss: 0.0530\n",
            "Epoch 65/100\n",
            "8/8 [==============================] - 0s 25ms/step - loss: 0.0392 - val_loss: 0.0544\n",
            "Epoch 66/100\n",
            "8/8 [==============================] - 0s 25ms/step - loss: 0.0375 - val_loss: 0.0541\n",
            "Epoch 67/100\n",
            "8/8 [==============================] - 0s 27ms/step - loss: 0.0357 - val_loss: 0.0491\n",
            "Epoch 68/100\n",
            "8/8 [==============================] - 0s 29ms/step - loss: 0.0337 - val_loss: 0.0471\n",
            "Epoch 69/100\n",
            "8/8 [==============================] - 0s 25ms/step - loss: 0.0318 - val_loss: 0.0467\n",
            "Epoch 70/100\n",
            "8/8 [==============================] - 0s 29ms/step - loss: 0.0297 - val_loss: 0.0446\n",
            "Epoch 71/100\n",
            "8/8 [==============================] - 0s 24ms/step - loss: 0.0280 - val_loss: 0.0439\n",
            "Epoch 72/100\n",
            "8/8 [==============================] - 0s 26ms/step - loss: 0.0274 - val_loss: 0.0436\n",
            "Epoch 73/100\n",
            "8/8 [==============================] - 0s 25ms/step - loss: 0.0274 - val_loss: 0.0428\n",
            "Epoch 74/100\n",
            "8/8 [==============================] - 0s 26ms/step - loss: 0.0255 - val_loss: 0.0418\n",
            "Epoch 75/100\n",
            "8/8 [==============================] - 0s 27ms/step - loss: 0.0245 - val_loss: 0.0397\n",
            "Epoch 76/100\n",
            "8/8 [==============================] - 0s 27ms/step - loss: 0.0230 - val_loss: 0.0391\n",
            "Epoch 77/100\n",
            "8/8 [==============================] - 0s 25ms/step - loss: 0.0218 - val_loss: 0.0383\n",
            "Epoch 78/100\n",
            "8/8 [==============================] - 0s 29ms/step - loss: 0.0214 - val_loss: 0.0369\n",
            "Epoch 79/100\n",
            "8/8 [==============================] - 0s 23ms/step - loss: 0.0208 - val_loss: 0.0360\n",
            "Epoch 80/100\n",
            "8/8 [==============================] - 0s 28ms/step - loss: 0.0195 - val_loss: 0.0349\n",
            "Epoch 81/100\n",
            "8/8 [==============================] - 0s 25ms/step - loss: 0.0187 - val_loss: 0.0345\n",
            "Epoch 82/100\n",
            "8/8 [==============================] - 0s 29ms/step - loss: 0.0178 - val_loss: 0.0330\n",
            "Epoch 83/100\n",
            "8/8 [==============================] - 0s 25ms/step - loss: 0.0169 - val_loss: 0.0320\n",
            "Epoch 84/100\n",
            "8/8 [==============================] - 0s 28ms/step - loss: 0.0162 - val_loss: 0.0308\n",
            "Epoch 85/100\n",
            "8/8 [==============================] - 0s 25ms/step - loss: 0.0155 - val_loss: 0.0302\n",
            "Epoch 86/100\n",
            "8/8 [==============================] - 0s 25ms/step - loss: 0.0150 - val_loss: 0.0290\n",
            "Epoch 87/100\n",
            "8/8 [==============================] - 0s 26ms/step - loss: 0.0142 - val_loss: 0.0280\n",
            "Epoch 88/100\n",
            "8/8 [==============================] - 0s 26ms/step - loss: 0.0135 - val_loss: 0.0270\n",
            "Epoch 89/100\n",
            "8/8 [==============================] - 0s 25ms/step - loss: 0.0128 - val_loss: 0.0266\n",
            "Epoch 90/100\n",
            "8/8 [==============================] - 0s 27ms/step - loss: 0.0125 - val_loss: 0.0256\n",
            "Epoch 91/100\n",
            "8/8 [==============================] - 0s 26ms/step - loss: 0.0123 - val_loss: 0.0245\n",
            "Epoch 92/100\n",
            "8/8 [==============================] - 0s 26ms/step - loss: 0.0114 - val_loss: 0.0242\n",
            "Epoch 93/100\n",
            "8/8 [==============================] - 0s 27ms/step - loss: 0.0111 - val_loss: 0.0229\n",
            "Epoch 94/100\n",
            "8/8 [==============================] - 0s 26ms/step - loss: 0.0103 - val_loss: 0.0222\n",
            "Epoch 95/100\n",
            "8/8 [==============================] - 0s 26ms/step - loss: 0.0098 - val_loss: 0.0217\n",
            "Epoch 96/100\n",
            "8/8 [==============================] - 0s 25ms/step - loss: 0.0095 - val_loss: 0.0207\n",
            "Epoch 97/100\n",
            "8/8 [==============================] - 0s 24ms/step - loss: 0.0090 - val_loss: 0.0199\n",
            "Epoch 98/100\n",
            "8/8 [==============================] - 0s 27ms/step - loss: 0.0085 - val_loss: 0.0195\n",
            "Epoch 99/100\n",
            "8/8 [==============================] - 0s 24ms/step - loss: 0.0083 - val_loss: 0.0187\n",
            "Epoch 100/100\n",
            "8/8 [==============================] - 0s 24ms/step - loss: 0.0079 - val_loss: 0.0180\n"
          ]
        },
        {
          "data": {
            "text/plain": [
              "<keras.callbacks.History at 0x20f3ce35750>"
            ]
          },
          "execution_count": 66,
          "metadata": {},
          "output_type": "execute_result"
        }
      ],
      "source": [
        "model = tf.keras.models.Sequential()\n",
        "model.add(tf.keras.layers.RepeatVector(output_length))       # repeat vector: gebruik deze input voor elke stap in de sequentie\n",
        "\n",
        "model.add(tf.keras.layers.LSTM(100, activation=\"relu\", return_sequences=True))   # return sequence omdat we een many hebben als output (elke waarde van de sequentie is belangrijk)\n",
        "model.add(tf.keras.layers.LSTM(100, activation='relu', return_sequences=True))  # zo lang de vorige laag sequences returned kan je meerdere recurrente lagen hebben\n",
        "\n",
        "model.add(tf.keras.layers.TimeDistributed(tf.keras.layers.Dense(1)))    # time distributed (doe het deel in het argument voor elke stap in de sequentie)\n",
        "\n",
        "model.compile(optimizer=\"adam\", loss=\"mse\")\n",
        "\n",
        "model.fit(tf.expand_dims(X,1), Y, epochs=100, validation_split=0.2, verbose=1, batch_size=10)"
      ]
    },
    {
      "cell_type": "markdown",
      "metadata": {
        "id": "UgI8eUU-PHzb"
      },
      "source": [
        "Voorspellingen kunnen gemaakt worden via onderstaande code"
      ]
    },
    {
      "cell_type": "code",
      "execution_count": 56,
      "metadata": {
        "colab": {
          "base_uri": "https://localhost:8080/"
        },
        "id": "mJXG3fUFYXZc",
        "outputId": "31bb0fc7-6c81-4581-94a3-01ac8e2ae65d"
      },
      "outputs": [
        {
          "data": {
            "text/plain": [
              "(100,)"
            ]
          },
          "execution_count": 56,
          "metadata": {},
          "output_type": "execute_result"
        }
      ],
      "source": [
        "X.shape"
      ]
    },
    {
      "cell_type": "code",
      "execution_count": 58,
      "metadata": {},
      "outputs": [
        {
          "data": {
            "text/plain": [
              "TensorShape([100, 1])"
            ]
          },
          "execution_count": 58,
          "metadata": {},
          "output_type": "execute_result"
        }
      ],
      "source": [
        "tf.expand_dims(X,1).shape"
      ]
    },
    {
      "cell_type": "code",
      "execution_count": 64,
      "metadata": {},
      "outputs": [
        {
          "data": {
            "text/plain": [
              "<tf.Tensor: shape=(1, 5, 1), dtype=float32, numpy=\n",
              "array([[[21.037455],\n",
              "        [21.978521],\n",
              "        [22.973032],\n",
              "        [24.035181],\n",
              "        [25.006842]]], dtype=float32)>"
            ]
          },
          "execution_count": 64,
          "metadata": {},
          "output_type": "execute_result"
        }
      ],
      "source": [
        "model(np.array([20]))"
      ]
    },
    {
      "cell_type": "code",
      "execution_count": 61,
      "metadata": {},
      "outputs": [
        {
          "data": {
            "text/plain": [
              "array([20, 21, 22, 23, 24])"
            ]
          },
          "execution_count": 61,
          "metadata": {},
          "output_type": "execute_result"
        }
      ],
      "source": [
        "np.arange(20,25)"
      ]
    },
    {
      "cell_type": "code",
      "execution_count": null,
      "metadata": {},
      "outputs": [],
      "source": []
    }
  ],
  "metadata": {
    "colab": {
      "collapsed_sections": [],
      "provenance": []
    },
    "kernelspec": {
      "display_name": "Python 3.10.5 64-bit",
      "language": "python",
      "name": "python3"
    },
    "language_info": {
      "codemirror_mode": {
        "name": "ipython",
        "version": 3
      },
      "file_extension": ".py",
      "mimetype": "text/x-python",
      "name": "python",
      "nbconvert_exporter": "python",
      "pygments_lexer": "ipython3",
      "version": "3.10.5"
    },
    "vscode": {
      "interpreter": {
        "hash": "d5e8e3a19af5ceb2434683dff87da6345c3b29f7eb0a8a138558c07d014a01cc"
      }
    }
  },
  "nbformat": 4,
  "nbformat_minor": 0
}
